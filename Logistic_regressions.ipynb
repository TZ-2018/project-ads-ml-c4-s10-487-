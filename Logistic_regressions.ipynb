{
 "cells": [
  {
   "cell_type": "markdown",
   "metadata": {},
   "source": [
    "# Logistic regressions"
   ]
  },
  {
   "cell_type": "code",
   "execution_count": 1,
   "metadata": {},
   "outputs": [
    {
     "name": "stdout",
     "output_type": "stream",
     "text": [
      "It is a dictionary with keys: ['pixels', 'overfeat', 'labels', 'names', 'allow_pickle']\n"
     ]
    }
   ],
   "source": [
    "import numpy as np\n",
    "import pandas as pd\n",
    "from sklearn.model_selection import train_test_split\n",
    "from sklearn.preprocessing import StandardScaler\n",
    "%matplotlib inline\n",
    "import matplotlib.pyplot as plt\n",
    "from sklearn.decomposition import PCA\n",
    "import seaborn as sns\n",
    "sns.set()\n",
    "\n",
    "# Load data\n",
    "with np.load('cifar4-train.npz', allow_pickle=False) as npz_file:\n",
    "    cifar_train = dict(npz_file.items())\n",
    "print('It is a dictionary with keys:', list(cifar_train.keys()))\n",
    "#cifar_train  "
   ]
  },
  {
   "cell_type": "code",
   "execution_count": 2,
   "metadata": {},
   "outputs": [
    {
     "name": "stdout",
     "output_type": "stream",
     "text": [
      "X: (5000, 4096) float32\n",
      "y: (5000,) int64\n",
      "pixels: (5000, 3072) float32\n",
      "names: ['truck' 'car' 'airplane' 'ship']\n"
     ]
    }
   ],
   "source": [
    "# Create X/y arrays\n",
    "X = cifar_train['overfeat']\n",
    "y = cifar_train['labels']\n",
    "names = cifar_train['names']\n",
    "pixels = cifar_train['pixels'].astype(np.float32)\n",
    "pixels = pixels / 255\n",
    "\n",
    "print('X:', X.shape, X.dtype)\n",
    "print('y:', y.shape, y.dtype)\n",
    "print('pixels:', pixels.shape, pixels.dtype)\n",
    "print('names:', names)"
   ]
  },
  {
   "cell_type": "code",
   "execution_count": 3,
   "metadata": {},
   "outputs": [
    {
     "name": "stdout",
     "output_type": "stream",
     "text": [
      "Train set: (4000, 4096) (4000,)\n",
      "Test set: (1000, 4096) (1000,)\n",
      "Pixels set: (4000, 3072) (1000, 3072)\n"
     ]
    }
   ],
   "source": [
    "from sklearn.model_selection import train_test_split\n",
    "\n",
    "# Convert the type of the input matrix to float\n",
    "X = X.astype(np.float)\n",
    "\n",
    "# Split data into train/test sets\n",
    "X_tr, X_te, y_tr, y_te, Pix_tr, Pix_te = train_test_split(\n",
    "    X, y, pixels, train_size=4000, test_size=1000, random_state=0, stratify=y)\n",
    "print('Train set:', X_tr.shape, y_tr.shape)\n",
    "print('Test set:', X_te.shape, y_te.shape)\n",
    "print('Pixels set:', Pix_tr.shape, Pix_te.shape)"
   ]
  },
  {
   "cell_type": "code",
   "execution_count": 4,
   "metadata": {},
   "outputs": [
    {
     "name": "stderr",
     "output_type": "stream",
     "text": [
      "C:\\Users\\x\\Anaconda3\\envs\\exts-aml2\\lib\\site-packages\\ipykernel_launcher.py:24: FutureWarning: from_items is deprecated. Please use DataFrame.from_dict(dict(items), ...) instead. DataFrame.from_dict(OrderedDict(items)) may be used to preserve the key order.\n"
     ]
    }
   ],
   "source": [
    "# overfeat data: 176 values = 90% of the variance explained\n",
    "from sklearn.preprocessing import StandardScaler\n",
    "features=pd.DataFrame(X_tr) #convert to dataframe\n",
    "# Create Standard scaler\n",
    "scaler = StandardScaler()\n",
    "\n",
    "# Rescale data\n",
    "X_rescaled = scaler.fit_transform(X_tr)\n",
    "\n",
    "# Create PCA transformer\n",
    "pca_n = PCA(n_components=176)  #176 Components for Sum-PVE= 0.9001692523306701\n",
    "#pca_n = PCA(n_components=408) # 408 Components for Sum-PVE= 0.9500094570539659\n",
    "\n",
    "# Apply PCA to rescaled data\n",
    "X_2d_rescaled = pca_n.fit_transform(X_rescaled)\n",
    "X_2d_rescaled_df=pd.DataFrame(X_2d_rescaled)\n",
    "#print(X_2d_rescaled_df.head())\n",
    "\n",
    "# Create DataFrame with variance and principal components\n",
    "results_df2 = pd.DataFrame.from_items([\n",
    "    ('variance', X_rescaled.var(axis=0)),\n",
    "    ('1st component', pca_n.components_[0]),\n",
    "    ('2nd component', pca_n.components_[1]),\n",
    "    ('3nd component', pca_n.components_[2])\n",
    "]).set_index(features.columns)\n",
    "\n",
    "# Sort DataFrame by the coefficients of the 1st loading vector\n",
    "#results_df2.sort_values('1st component', ascending=False).head()"
   ]
  },
  {
   "cell_type": "markdown",
   "metadata": {},
   "source": [
    "# first task: \n",
    "Create a logistic regression classifier and tune the regularization strength."
   ]
  },
  {
   "cell_type": "code",
   "execution_count": 5,
   "metadata": {},
   "outputs": [
    {
     "name": "stdout",
     "output_type": "stream",
     "text": [
      "Train set: (3200, 176) (3200,)\n",
      "Sub set: (800, 176) (800,)\n"
     ]
    }
   ],
   "source": [
    "# Split data into train/validation sets\n",
    "X_tr2, X_valid2, y_tr2, y_valid2 = train_test_split(\n",
    "    X_2d_rescaled_df, y_tr, train_size=3200, test_size=800, random_state=0, stratify=y_tr)\n",
    "print('Train set:', X_tr2.shape, y_tr2.shape)\n",
    "print('Sub set:', X_valid2.shape, y_valid2.shape)"
   ]
  },
  {
   "cell_type": "code",
   "execution_count": 6,
   "metadata": {},
   "outputs": [
    {
     "data": {
      "text/plain": [
       "GridSearchCV(cv=5, error_score='raise',\n",
       "       estimator=Pipeline(memory=None,\n",
       "     steps=[('scaler', None), ('SDGClass', SGDClassifier(alpha=0.0001, average=False, class_weight=None, epsilon=0.1,\n",
       "       eta0=0.0, fit_intercept=True, l1_ratio=0.15,\n",
       "       learning_rate='optimal', loss='hinge', max_iter=None, n_iter=None,\n",
       "       n_jobs=1, penalty='l2', power_t=0.5, random_state=None,\n",
       "       shuffle=True, tol=None, verbose=0, warm_start=False))]),\n",
       "       fit_params=None, iid=True, n_jobs=-1,\n",
       "       param_grid=[{'SDGClass__loss': ['log'], 'SDGClass__max_iter': [1000], 'SDGClass__tol': [0.001], 'SDGClass__random_state': [0], 'SDGClass__alpha': [0.001, 0.01, 0.1]}],\n",
       "       pre_dispatch='2*n_jobs', refit=True, return_train_score='warn',\n",
       "       scoring=None, verbose=0)"
      ]
     },
     "execution_count": 6,
     "metadata": {},
     "output_type": "execute_result"
    }
   ],
   "source": [
    "#grid search with cross-validation\n",
    "#fit a logistic regression with an L2 regularization term ???\n",
    "#from sklearn.linear_model import LogisticRegression\n",
    "from sklearn import linear_model\n",
    "from sklearn.model_selection import GridSearchCV\n",
    "from sklearn.pipeline import Pipeline\n",
    "from sklearn.linear_model.stochastic_gradient import SGDClassifier\n",
    "from sklearn.preprocessing import StandardScaler\n",
    "\n",
    "# Create pipeline\n",
    "pipe = Pipeline([\n",
    "    ('scaler', None), # Optional step\n",
    "    ('SDGClass', SGDClassifier())\n",
    "])\n",
    "\n",
    "# Create cross-validation object\n",
    "grid_cv = GridSearchCV(pipe, [{\n",
    "    'SDGClass__loss': ['log'],\n",
    "    'SDGClass__max_iter': [1000],\n",
    "    'SDGClass__tol': [1e-3],\n",
    "    'SDGClass__random_state': [0],\n",
    "    'SDGClass__alpha': [0.001, 0.01, 0.1]   \n",
    "}], n_jobs=-1, cv=5)\n",
    "\n",
    "# Fit estimator\n",
    "grid_cv.fit(X_tr2, y_tr2)"
   ]
  },
  {
   "cell_type": "code",
   "execution_count": 7,
   "metadata": {},
   "outputs": [
    {
     "name": "stderr",
     "output_type": "stream",
     "text": [
      "C:\\Users\\x\\Anaconda3\\envs\\exts-aml2\\lib\\site-packages\\ipykernel_launcher.py:5: FutureWarning: from_items is deprecated. Please use DataFrame.from_dict(dict(items), ...) instead. DataFrame.from_dict(OrderedDict(items)) may be used to preserve the key order.\n",
      "  \"\"\"\n"
     ]
    },
    {
     "data": {
      "text/html": [
       "<div>\n",
       "<style scoped>\n",
       "    .dataframe tbody tr th:only-of-type {\n",
       "        vertical-align: middle;\n",
       "    }\n",
       "\n",
       "    .dataframe tbody tr th {\n",
       "        vertical-align: top;\n",
       "    }\n",
       "\n",
       "    .dataframe thead th {\n",
       "        text-align: right;\n",
       "    }\n",
       "</style>\n",
       "<table border=\"1\" class=\"dataframe\">\n",
       "  <thead>\n",
       "    <tr style=\"text-align: right;\">\n",
       "      <th></th>\n",
       "      <th>alpha</th>\n",
       "      <th>mean accuracy</th>\n",
       "      <th>standard deviation</th>\n",
       "    </tr>\n",
       "  </thead>\n",
       "  <tbody>\n",
       "    <tr>\n",
       "      <th>0</th>\n",
       "      <td>0.001</td>\n",
       "      <td>0.828438</td>\n",
       "      <td>0.018259</td>\n",
       "    </tr>\n",
       "    <tr>\n",
       "      <th>1</th>\n",
       "      <td>0.01</td>\n",
       "      <td>0.826562</td>\n",
       "      <td>0.019086</td>\n",
       "    </tr>\n",
       "    <tr>\n",
       "      <th>2</th>\n",
       "      <td>0.1</td>\n",
       "      <td>0.826250</td>\n",
       "      <td>0.018525</td>\n",
       "    </tr>\n",
       "  </tbody>\n",
       "</table>\n",
       "</div>"
      ],
      "text/plain": [
       "   alpha  mean accuracy  standard deviation\n",
       "0  0.001       0.828438            0.018259\n",
       "1   0.01       0.826562            0.019086\n",
       "2    0.1       0.826250            0.018525"
      ]
     },
     "execution_count": 7,
     "metadata": {},
     "output_type": "execute_result"
    }
   ],
   "source": [
    "# Collect results in a DataFrame\n",
    "df = pd.DataFrame.from_items([    \n",
    "    ('alpha', grid_cv.cv_results_['param_SDGClass__alpha']),\n",
    "    ('mean accuracy', grid_cv.cv_results_['mean_test_score']),\n",
    "    ('standard deviation', grid_cv.cv_results_['std_test_score'])\n",
    "])\n",
    "df.sort_values(by='mean accuracy', ascending=False)"
   ]
  },
  {
   "cell_type": "code",
   "execution_count": 8,
   "metadata": {},
   "outputs": [
    {
     "name": "stdout",
     "output_type": "stream",
     "text": [
      "Logistic regressions - top accuracy : 0.8284 (std: 0.0183) alpha= 0.0010\n"
     ]
    }
   ],
   "source": [
    "# Print maximum accuracy\n",
    "idx = df['mean accuracy'].idxmax() # Index of maximum value\n",
    "df1=df['mean accuracy']\n",
    "max_accuracy = df1[idx]\n",
    "df2=df['standard deviation']\n",
    "df2_std = df2[idx]\n",
    "df3=df['alpha']\n",
    "df3_alpha = df3[idx]\n",
    "print('Logistic regressions - top accuracy : {:.4f} (std: {:.4f}) alpha= {:.4f}'\n",
    "      .format(max_accuracy, df2_std,df3_alpha))"
   ]
  },
  {
   "cell_type": "markdown",
   "metadata": {},
   "source": [
    "alpha= 0.0010"
   ]
  },
  {
   "cell_type": "code",
   "execution_count": 9,
   "metadata": {},
   "outputs": [
    {
     "name": "stdout",
     "output_type": "stream",
     "text": [
      "Linear SVM accuracy (test set):  0.792\n"
     ]
    }
   ],
   "source": [
    "# Logistic regressions accuracy on full dataset\n",
    "SGDClass_reg = SGDClassifier(loss='log',max_iter=1000, tol=1e-3, alpha=0.001,random_state=0)\n",
    "SGDClass_reg.fit(X_tr, y_tr)\n",
    "SGDClass_reg_score=SGDClass_reg.score(X_te, y_te)\n",
    "print('Linear SVM accuracy (test set): ',SGDClass_reg_score)"
   ]
  },
  {
   "cell_type": "code",
   "execution_count": 10,
   "metadata": {},
   "outputs": [
    {
     "name": "stdout",
     "output_type": "stream",
     "text": [
      "           model  test accuracy\n",
      "0           k-NN          0.794\n",
      "1  decision tree          0.658\n",
      "2  random forest          0.797\n",
      "3     svm linear          0.802\n",
      "4        svm rbf          0.839\n",
      "5       logistic          0.810\n",
      "6          fc nn          0.839\n",
      "7            cnn          0.816\n"
     ]
    }
   ],
   "source": [
    "# Load data & Save Results\n",
    "Result_df = pd.read_csv('Result_df.csv')\n",
    "print(Result_df.head(9))"
   ]
  },
  {
   "cell_type": "code",
   "execution_count": 11,
   "metadata": {
    "scrolled": true
   },
   "outputs": [
    {
     "name": "stdout",
     "output_type": "stream",
     "text": [
      "           model  test accuracy\n",
      "0           k-NN          0.794\n",
      "1  decision tree          0.658\n",
      "2  random forest          0.797\n",
      "3     svm linear          0.802\n",
      "4        svm rbf          0.839\n",
      "5       logistic          0.792\n",
      "6          fc nn          0.839\n",
      "7            cnn          0.816\n"
     ]
    }
   ],
   "source": [
    "Result_df.iloc[5,1]=SGDClass_reg_score\n",
    "print(Result_df.head(9))\n",
    "#Write Result as Dataframe to file\n",
    "Result_df.to_csv('Result_df.csv', index=False, float_format='%.3f')"
   ]
  },
  {
   "cell_type": "code",
   "execution_count": null,
   "metadata": {},
   "outputs": [],
   "source": []
  },
  {
   "cell_type": "markdown",
   "metadata": {},
   "source": [
    "# second task\n",
    "Pick ten images from the test set and compute the probabilities for each class."
   ]
  },
  {
   "cell_type": "code",
   "execution_count": 12,
   "metadata": {},
   "outputs": [
    {
     "name": "stdout",
     "output_type": "stream",
     "text": [
      "pixels_reshaped: (4000, 32, 32, 3) float32\n",
      "pixels_reshaped: (1000, 32, 32, 3) float32\n"
     ]
    }
   ],
   "source": [
    "# Reshape images: 32 by 32 with 3 (RGB) color channels\n",
    "Pix_tr_reshaped = Pix_tr.reshape(-1, 32, 32, 3)\n",
    "Pix_te_reshaped = Pix_te.reshape(-1, 32, 32, 3)\n",
    "print('pixels_reshaped:', Pix_tr_reshaped.shape, Pix_tr_reshaped.dtype)\n",
    "print('pixels_reshaped:', Pix_te_reshaped.shape, Pix_te_reshaped.dtype)\n",
    "#print(pixels_reshaped)"
   ]
  },
  {
   "cell_type": "code",
   "execution_count": 14,
   "metadata": {},
   "outputs": [
    {
     "data": {
      "text/plain": [
       "SGDClassifier(alpha=0.001, average=False, class_weight=None, epsilon=0.1,\n",
       "       eta0=0.0, fit_intercept=True, l1_ratio=0.15,\n",
       "       learning_rate='optimal', loss='log', max_iter=1000, n_iter=None,\n",
       "       n_jobs=1, penalty='l2', power_t=0.5, random_state=0, shuffle=True,\n",
       "       tol=0.001, verbose=0, warm_start=False)"
      ]
     },
     "execution_count": 14,
     "metadata": {},
     "output_type": "execute_result"
    }
   ],
   "source": [
    "# Logistic regressions accuracy on full dataset\n",
    "from sklearn.linear_model.stochastic_gradient import SGDClassifier\n",
    "SGDClass_reg = SGDClassifier(loss='log',max_iter=1000, tol=1e-3, alpha=0.001, random_state=0)\n",
    "SGDClass_reg.fit(X_tr, y_tr)"
   ]
  },
  {
   "cell_type": "code",
   "execution_count": 51,
   "metadata": {},
   "outputs": [],
   "source": [
    "result_predict=SGDClass_reg.predict_proba(X_te)"
   ]
  },
  {
   "cell_type": "code",
   "execution_count": 52,
   "metadata": {},
   "outputs": [
    {
     "name": "stdout",
     "output_type": "stream",
     "text": [
      "(1000, 4)\n"
     ]
    }
   ],
   "source": [
    "print(result_predict.shape)"
   ]
  },
  {
   "cell_type": "code",
   "execution_count": 53,
   "metadata": {},
   "outputs": [
    {
     "name": "stdout",
     "output_type": "stream",
     "text": [
      "[0.6769 0.007  0.007  0.309 ]\n"
     ]
    },
    {
     "data": {
      "image/png": "[encoded data removed]",
      "text/plain": [
       "<Figure size 432x288 with 1 Axes>"
      ]
     },
     "metadata": {},
     "output_type": "display_data"
    }
   ],
   "source": [
    "Num_Image=3\n",
    "print(result_predict[Num_Image,:].round(4))\n",
    "img=Pix_te_reshaped[Num_Image,:,:,:]\n",
    "#print(img)\n",
    "plt.imshow(img,cmap='gnuplot2')\n",
    "plt.title(\"{}\".format(names[y_te[Num_Image]]), fontsize=12)\n",
    "plt.axis('off')\n",
    "plt.show()"
   ]
  },
  {
   "cell_type": "code",
   "execution_count": 17,
   "metadata": {},
   "outputs": [
    {
     "name": "stdout",
     "output_type": "stream",
     "text": [
      "names: ['truck' 'car' 'airplane' 'ship']\n"
     ]
    }
   ],
   "source": [
    "print('names:', names)"
   ]
  },
  {
   "cell_type": "code",
   "execution_count": 54,
   "metadata": {},
   "outputs": [
    {
     "data": {
      "text/html": [
       "<div>\n",
       "<style scoped>\n",
       "    .dataframe tbody tr th:only-of-type {\n",
       "        vertical-align: middle;\n",
       "    }\n",
       "\n",
       "    .dataframe tbody tr th {\n",
       "        vertical-align: top;\n",
       "    }\n",
       "\n",
       "    .dataframe thead th {\n",
       "        text-align: right;\n",
       "    }\n",
       "</style>\n",
       "<table border=\"1\" class=\"dataframe\">\n",
       "  <thead>\n",
       "    <tr style=\"text-align: right;\">\n",
       "      <th></th>\n",
       "      <th>truck</th>\n",
       "      <th>car</th>\n",
       "      <th>airplane</th>\n",
       "      <th>ship</th>\n",
       "    </tr>\n",
       "  </thead>\n",
       "  <tbody>\n",
       "    <tr>\n",
       "      <th>0</th>\n",
       "      <td>0.01</td>\n",
       "      <td>0.00</td>\n",
       "      <td>0.61</td>\n",
       "      <td>0.38</td>\n",
       "    </tr>\n",
       "    <tr>\n",
       "      <th>1</th>\n",
       "      <td>0.02</td>\n",
       "      <td>0.01</td>\n",
       "      <td>0.75</td>\n",
       "      <td>0.21</td>\n",
       "    </tr>\n",
       "    <tr>\n",
       "      <th>2</th>\n",
       "      <td>0.00</td>\n",
       "      <td>0.44</td>\n",
       "      <td>0.55</td>\n",
       "      <td>0.00</td>\n",
       "    </tr>\n",
       "  </tbody>\n",
       "</table>\n",
       "</div>"
      ],
      "text/plain": [
       "   truck   car  airplane  ship\n",
       "0   0.01  0.00      0.61  0.38\n",
       "1   0.02  0.01      0.75  0.21\n",
       "2   0.00  0.44      0.55  0.00"
      ]
     },
     "execution_count": 54,
     "metadata": {},
     "output_type": "execute_result"
    }
   ],
   "source": [
    "result_predict_df= pd.DataFrame(result_predict).round(2)\n",
    "result_predict_df.columns=['truck', 'car', 'airplane', 'ship']\n",
    "result_predict_df.head(3)"
   ]
  },
  {
   "cell_type": "code",
   "execution_count": 55,
   "metadata": {},
   "outputs": [
    {
     "data": {
      "image/png": "[encoded data removed]",
      "text/plain": [
       "<Figure size 864x432 with 10 Axes>"
      ]
     },
     "metadata": {},
     "output_type": "display_data"
    }
   ],
   "source": [
    "plt.figure( figsize=(12, 6))\n",
    "\n",
    "for i in range(0, 10):\n",
    "    plt.subplot(1, 10, i+1)\n",
    "    img=Pix_te_reshaped[i,:,:,:]\n",
    "    plt.imshow(img, cmap='gnuplot2')\n",
    "    plt.title(\"{}\".format(names[y_te[i]]), fontsize=12)\n",
    "    plt.axis('off')\n",
    "    plt.subplots_adjust(wspace=0.1, hspace=0.3)"
   ]
  },
  {
   "cell_type": "code",
   "execution_count": 56,
   "metadata": {},
   "outputs": [
    {
     "data": {
      "text/html": [
       "<div>\n",
       "<style scoped>\n",
       "    .dataframe tbody tr th:only-of-type {\n",
       "        vertical-align: middle;\n",
       "    }\n",
       "\n",
       "    .dataframe tbody tr th {\n",
       "        vertical-align: top;\n",
       "    }\n",
       "\n",
       "    .dataframe thead th {\n",
       "        text-align: right;\n",
       "    }\n",
       "</style>\n",
       "<table border=\"1\" class=\"dataframe\">\n",
       "  <thead>\n",
       "    <tr style=\"text-align: right;\">\n",
       "      <th></th>\n",
       "      <th>truck</th>\n",
       "      <th>car</th>\n",
       "      <th>airplane</th>\n",
       "      <th>ship</th>\n",
       "    </tr>\n",
       "  </thead>\n",
       "  <tbody>\n",
       "    <tr>\n",
       "      <th>0</th>\n",
       "      <td>0.01</td>\n",
       "      <td>0.00</td>\n",
       "      <td>0.61</td>\n",
       "      <td>0.38</td>\n",
       "    </tr>\n",
       "    <tr>\n",
       "      <th>1</th>\n",
       "      <td>0.02</td>\n",
       "      <td>0.01</td>\n",
       "      <td>0.75</td>\n",
       "      <td>0.21</td>\n",
       "    </tr>\n",
       "    <tr>\n",
       "      <th>2</th>\n",
       "      <td>0.00</td>\n",
       "      <td>0.44</td>\n",
       "      <td>0.55</td>\n",
       "      <td>0.00</td>\n",
       "    </tr>\n",
       "    <tr>\n",
       "      <th>3</th>\n",
       "      <td>0.68</td>\n",
       "      <td>0.01</td>\n",
       "      <td>0.01</td>\n",
       "      <td>0.31</td>\n",
       "    </tr>\n",
       "    <tr>\n",
       "      <th>4</th>\n",
       "      <td>0.01</td>\n",
       "      <td>0.00</td>\n",
       "      <td>0.65</td>\n",
       "      <td>0.34</td>\n",
       "    </tr>\n",
       "    <tr>\n",
       "      <th>5</th>\n",
       "      <td>0.91</td>\n",
       "      <td>0.07</td>\n",
       "      <td>0.00</td>\n",
       "      <td>0.01</td>\n",
       "    </tr>\n",
       "    <tr>\n",
       "      <th>6</th>\n",
       "      <td>0.28</td>\n",
       "      <td>0.00</td>\n",
       "      <td>0.63</td>\n",
       "      <td>0.09</td>\n",
       "    </tr>\n",
       "    <tr>\n",
       "      <th>7</th>\n",
       "      <td>0.92</td>\n",
       "      <td>0.03</td>\n",
       "      <td>0.05</td>\n",
       "      <td>0.00</td>\n",
       "    </tr>\n",
       "    <tr>\n",
       "      <th>8</th>\n",
       "      <td>0.68</td>\n",
       "      <td>0.31</td>\n",
       "      <td>0.01</td>\n",
       "      <td>0.00</td>\n",
       "    </tr>\n",
       "    <tr>\n",
       "      <th>9</th>\n",
       "      <td>0.02</td>\n",
       "      <td>0.96</td>\n",
       "      <td>0.02</td>\n",
       "      <td>0.00</td>\n",
       "    </tr>\n",
       "  </tbody>\n",
       "</table>\n",
       "</div>"
      ],
      "text/plain": [
       "   truck   car  airplane  ship\n",
       "0   0.01  0.00      0.61  0.38\n",
       "1   0.02  0.01      0.75  0.21\n",
       "2   0.00  0.44      0.55  0.00\n",
       "3   0.68  0.01      0.01  0.31\n",
       "4   0.01  0.00      0.65  0.34\n",
       "5   0.91  0.07      0.00  0.01\n",
       "6   0.28  0.00      0.63  0.09\n",
       "7   0.92  0.03      0.05  0.00\n",
       "8   0.68  0.31      0.01  0.00\n",
       "9   0.02  0.96      0.02  0.00"
      ]
     },
     "execution_count": 56,
     "metadata": {},
     "output_type": "execute_result"
    }
   ],
   "source": [
    "result_predict_df.head(10)"
   ]
  },
  {
   "cell_type": "code",
   "execution_count": null,
   "metadata": {},
   "outputs": [],
   "source": []
  },
  {
   "cell_type": "code",
   "execution_count": null,
   "metadata": {},
   "outputs": [],
   "source": []
  },
  {
   "cell_type": "markdown",
   "metadata": {},
   "source": [
    "# Third task\n",
    "Try different regularization strengths. What is the effect on the probabilities?"
   ]
  },
  {
   "cell_type": "markdown",
   "metadata": {},
   "source": [
    "Definition:\n",
    "sklearn.linear_model.SGDClassifier(loss=’hinge’, penalty=’l2’, alpha=0.0001, l1_ratio=0.15, fit_intercept=True, max_iter=None, tol=None, shuffle=True, verbose=0, epsilon=0.1, n_jobs=None, random_state=None, learning_rate=’optimal’, eta0=0.0, power_t=0.5, early_stopping=False, validation_fraction=0.1, n_iter_no_change=5, class_weight=None, warm_start=False, average=False, n_iter=None)\n",
    "\n",
    "-> change alpha for different regularization strengths"
   ]
  },
  {
   "cell_type": "code",
   "execution_count": 21,
   "metadata": {},
   "outputs": [
    {
     "data": {
      "text/plain": [
       "0.001"
      ]
     },
     "execution_count": 21,
     "metadata": {},
     "output_type": "execute_result"
    }
   ],
   "source": [
    "df3_alpha"
   ]
  },
  {
   "cell_type": "code",
   "execution_count": 22,
   "metadata": {},
   "outputs": [
    {
     "name": "stdout",
     "output_type": "stream",
     "text": [
      "Linear SVM accuracy (test set):  0.811\n"
     ]
    }
   ],
   "source": [
    "# Variants different regularization on Logistic regressions with full dataset\n",
    "#alpha : float, Constant that multiplies the regularization term. \n",
    "SGDClass_reg = SGDClassifier(loss='log', max_iter=1000, tol=1e-3, alpha=0.0001,random_state=0)\n",
    "SGDClass_reg.fit(X_tr, y_tr)\n",
    "SGDClass_reg_score=SGDClass_reg.score(X_te, y_te)\n",
    "print('Linear SVM accuracy (test set): ',SGDClass_reg_score)"
   ]
  },
  {
   "cell_type": "markdown",
   "metadata": {},
   "source": [
    "-> Observation: worse accuracy "
   ]
  },
  {
   "cell_type": "code",
   "execution_count": 23,
   "metadata": {},
   "outputs": [
    {
     "name": "stdout",
     "output_type": "stream",
     "text": [
      "Linear SVM accuracy (test set):  0.81\n"
     ]
    }
   ],
   "source": [
    "#alpha : float, Constant that multiplies the regularization term. \n",
    "SGDClass_reg = SGDClassifier(loss='log', max_iter=1000, tol=1e-3, alpha=0.01,random_state=0)\n",
    "SGDClass_reg.fit(X_tr, y_tr)\n",
    "SGDClass_reg_score=SGDClass_reg.score(X_te, y_te)\n",
    "print('Linear SVM accuracy (test set): ',SGDClass_reg_score)"
   ]
  },
  {
   "cell_type": "code",
   "execution_count": 24,
   "metadata": {},
   "outputs": [
    {
     "name": "stdout",
     "output_type": "stream",
     "text": [
      "Linear SVM accuracy (test set):  0.833\n"
     ]
    }
   ],
   "source": [
    "#alpha : float, Constant that multiplies the regularization term. \n",
    "SGDClass_reg = SGDClassifier(loss='log', max_iter=1000, tol=1e-3, alpha=0.1,random_state=0)\n",
    "SGDClass_reg.fit(X_tr, y_tr)\n",
    "SGDClass_reg_score=SGDClass_reg.score(X_te, y_te)\n",
    "print('Linear SVM accuracy (test set): ',SGDClass_reg_score)"
   ]
  },
  {
   "cell_type": "markdown",
   "metadata": {},
   "source": [
    "-> Observation: Best accuracy "
   ]
  },
  {
   "cell_type": "code",
   "execution_count": 26,
   "metadata": {},
   "outputs": [
    {
     "name": "stdout",
     "output_type": "stream",
     "text": [
      "Linear SVM accuracy (test set):  0.821\n"
     ]
    }
   ],
   "source": [
    "#alpha : float, Constant that multiplies the regularization term. \n",
    "SGDClass_reg = SGDClassifier(loss='log', max_iter=1000, tol=1e-3, alpha=0.2,random_state=0)\n",
    "SGDClass_reg.fit(X_tr, y_tr)\n",
    "SGDClass_reg_score=SGDClass_reg.score(X_te, y_te)\n",
    "print('Linear SVM accuracy (test set): ',SGDClass_reg_score)"
   ]
  },
  {
   "cell_type": "code",
   "execution_count": 27,
   "metadata": {},
   "outputs": [
    {
     "name": "stdout",
     "output_type": "stream",
     "text": [
      "Linear SVM accuracy (test set):  0.822\n"
     ]
    }
   ],
   "source": [
    "#alpha : float, Constant that multiplies the regularization term. \n",
    "SGDClass_reg = SGDClassifier(loss='log', max_iter=1000, tol=1e-3, alpha=1,random_state=0)\n",
    "SGDClass_reg.fit(X_tr, y_tr)\n",
    "SGDClass_reg_score=SGDClass_reg.score(X_te, y_te)\n",
    "print('Linear SVM accuracy (test set): ',SGDClass_reg_score)"
   ]
  },
  {
   "cell_type": "code",
   "execution_count": 28,
   "metadata": {},
   "outputs": [
    {
     "name": "stdout",
     "output_type": "stream",
     "text": [
      "Linear SVM accuracy (test set):  0.833\n",
      "           model  test accuracy\n",
      "0           k-NN          0.794\n",
      "1  decision tree          0.658\n",
      "2  random forest          0.797\n",
      "3     svm linear          0.802\n",
      "4        svm rbf          0.839\n",
      "5       logistic          0.792\n",
      "6          fc nn          0.839\n",
      "7            cnn          0.816\n",
      "           model  test accuracy\n",
      "0           k-NN          0.794\n",
      "1  decision tree          0.658\n",
      "2  random forest          0.797\n",
      "3     svm linear          0.802\n",
      "4        svm rbf          0.839\n",
      "5       logistic          0.833\n",
      "6          fc nn          0.839\n",
      "7            cnn          0.816\n"
     ]
    }
   ],
   "source": [
    "# Logistic regressions accuracy on full dataset with optimized alpha\n",
    "SGDClass_reg = SGDClassifier(loss='log',max_iter=1000, tol=1e-3, alpha=0.1,random_state=0)\n",
    "SGDClass_reg.fit(X_tr, y_tr)\n",
    "SGDClass_reg_score=SGDClass_reg.score(X_te, y_te)\n",
    "print('Linear SVM accuracy (test set): ',SGDClass_reg_score)\n",
    "\n",
    "# Load data & Save Results\n",
    "Result_df = pd.read_csv('Result_df.csv')\n",
    "print(Result_df.head(9))\n",
    "\n",
    "Result_df.iloc[5,1]=SGDClass_reg_score\n",
    "print(Result_df.head(9))\n",
    "#Write Result as Dataframe to file\n",
    "Result_df.to_csv('Result_df.csv', index=False, float_format='%.3f')"
   ]
  }
 ],
 "metadata": {
  "kernelspec": {
   "display_name": "Python 3",
   "language": "python",
   "name": "python3"
  },
  "language_info": {
   "codemirror_mode": {
    "name": "ipython",
    "version": 3
   },
   "file_extension": ".py",
   "mimetype": "text/x-python",
   "name": "python",
   "nbconvert_exporter": "python",
   "pygments_lexer": "ipython3",
   "version": "3.6.6"
  }
 },
 "nbformat": 4,
 "nbformat_minor": 2
}
