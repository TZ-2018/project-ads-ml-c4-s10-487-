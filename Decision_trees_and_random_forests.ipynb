{
 "cells": [
  {
   "cell_type": "markdown",
   "metadata": {},
   "source": [
    "# Decision trees and random forests"
   ]
  },
  {
   "cell_type": "code",
   "execution_count": 1,
   "metadata": {},
   "outputs": [
    {
     "name": "stdout",
     "output_type": "stream",
     "text": [
      "It is a dictionary with keys: ['pixels', 'overfeat', 'labels', 'names', 'allow_pickle']\n"
     ]
    }
   ],
   "source": [
    "import numpy as np\n",
    "import pandas as pd\n",
    "from sklearn.model_selection import train_test_split\n",
    "from sklearn.preprocessing import StandardScaler\n",
    "%matplotlib inline\n",
    "import matplotlib.pyplot as plt\n",
    "from sklearn.decomposition import PCA\n",
    "import seaborn as sns\n",
    "sns.set()\n",
    "\n",
    "# Load data\n",
    "with np.load('cifar4-train.npz', allow_pickle=False) as npz_file:\n",
    "    cifar_train = dict(npz_file.items())\n",
    "print('It is a dictionary with keys:', list(cifar_train.keys()))\n",
    "#cifar_train  "
   ]
  },
  {
   "cell_type": "code",
   "execution_count": 2,
   "metadata": {},
   "outputs": [
    {
     "name": "stdout",
     "output_type": "stream",
     "text": [
      "X: (5000, 4096) float32\n",
      "y: (5000,) int64\n",
      "pixels: (5000, 3072) float32\n",
      "names: ['truck' 'car' 'airplane' 'ship']\n"
     ]
    }
   ],
   "source": [
    "# Create X/y arrays\n",
    "X = cifar_train['overfeat']\n",
    "y = cifar_train['labels']\n",
    "names = cifar_train['names']\n",
    "pixels = cifar_train['pixels'].astype(np.float32)\n",
    "pixels = pixels / 255\n",
    "\n",
    "print('X:', X.shape, X.dtype)\n",
    "print('y:', y.shape, y.dtype)\n",
    "print('pixels:', pixels.shape, pixels.dtype)\n",
    "print('names:', names)"
   ]
  },
  {
   "cell_type": "code",
   "execution_count": 3,
   "metadata": {},
   "outputs": [
    {
     "name": "stdout",
     "output_type": "stream",
     "text": [
      "pixels_reshaped: (5000, 32, 32, 3) float32\n"
     ]
    }
   ],
   "source": [
    "# Reshape images: 32 by 32 with 3 (RGB) color channels\n",
    "pixels_reshaped = pixels.reshape(-1, 32, 32, 3)\n",
    "print('pixels_reshaped:', pixels_reshaped.shape, pixels_reshaped.dtype)\n",
    "#print(pixels_reshaped)"
   ]
  },
  {
   "cell_type": "code",
   "execution_count": 4,
   "metadata": {},
   "outputs": [
    {
     "name": "stdout",
     "output_type": "stream",
     "text": [
      "Train set: (4000, 4096) (4000,)\n",
      "Test set: (1000, 4096) (1000,)\n"
     ]
    }
   ],
   "source": [
    "from sklearn.model_selection import train_test_split\n",
    "\n",
    "# Convert the type of the input matrix to float\n",
    "X = X.astype(np.float)\n",
    "\n",
    "# Split data into train/test sets\n",
    "X_tr, X_te, y_tr, y_te = train_test_split(\n",
    "    X, y, train_size=4000, test_size=1000, random_state=0, stratify=y)\n",
    "print('Train set:', X_tr.shape, y_tr.shape)\n",
    "print('Test set:', X_te.shape, y_te.shape)"
   ]
  },
  {
   "cell_type": "code",
   "execution_count": 5,
   "metadata": {},
   "outputs": [
    {
     "name": "stderr",
     "output_type": "stream",
     "text": [
      "C:\\Users\\x\\Anaconda3\\envs\\exts-aml2\\lib\\site-packages\\ipykernel_launcher.py:23: FutureWarning: from_items is deprecated. Please use DataFrame.from_dict(dict(items), ...) instead. DataFrame.from_dict(OrderedDict(items)) may be used to preserve the key order.\n"
     ]
    }
   ],
   "source": [
    "# overfeat data: 176 values = 90% of the variance explained\n",
    "from sklearn.preprocessing import StandardScaler\n",
    "features=pd.DataFrame(X_tr) #convert to dataframe\n",
    "# Create Standard scaler\n",
    "scaler = StandardScaler()\n",
    "\n",
    "# Rescale data\n",
    "X_rescaled = scaler.fit_transform(X_tr)\n",
    "\n",
    "# Create PCA transformer\n",
    "pca_n = PCA(n_components=176)  #176 Components for Sum-PVE= 0.9001692523306701\n",
    "\n",
    "# Apply PCA to rescaled data\n",
    "X_2d_rescaled = pca_n.fit_transform(X_rescaled)\n",
    "X_2d_rescaled_df=pd.DataFrame(X_2d_rescaled)\n",
    "#print(X_2d_rescaled_df.head())\n",
    "\n",
    "# Create DataFrame with variance and principal components\n",
    "results_df2 = pd.DataFrame.from_items([\n",
    "    ('variance', X_rescaled.var(axis=0)),\n",
    "    ('1st component', pca_n.components_[0]),\n",
    "    ('2nd component', pca_n.components_[1]),\n",
    "    ('3nd component', pca_n.components_[2])\n",
    "]).set_index(features.columns)\n",
    "\n",
    "# Sort DataFrame by the coefficients of the 1st loading vector\n",
    "#results_df2.sort_values('1st component', ascending=False).head()"
   ]
  },
  {
   "cell_type": "markdown",
   "metadata": {},
   "source": [
    "# first task: \n",
    "Create a decision tree classifier. Tune its depth and plot the validation curve"
   ]
  },
  {
   "cell_type": "code",
   "execution_count": 6,
   "metadata": {},
   "outputs": [
    {
     "name": "stdout",
     "output_type": "stream",
     "text": [
      "Train set: (3200, 176) (3200,)\n",
      "Sub set: (800, 176) (800,)\n"
     ]
    }
   ],
   "source": [
    "# Split data into train/validation sets\n",
    "X_tr2, X_valid2, y_tr2, y_valid2 = train_test_split(\n",
    "    X_2d_rescaled_df, y_tr, train_size=3200, test_size=800, random_state=0, stratify=y_tr)\n",
    "print('Train set:', X_tr2.shape, y_tr2.shape)\n",
    "print('Sub set:', X_valid2.shape, y_valid2.shape)"
   ]
  },
  {
   "cell_type": "code",
   "execution_count": 7,
   "metadata": {},
   "outputs": [
    {
     "name": "stdout",
     "output_type": "stream",
     "text": [
      "Combination 1/14\n",
      "Train accuracy: 0.452 Test accuracy: 0.449\n",
      "Combination 2/14\n",
      "Train accuracy: 0.619 Test accuracy: 0.604\n",
      "Combination 3/14\n",
      "Train accuracy: 0.648 Test accuracy: 0.639\n",
      "Combination 4/14\n",
      "Train accuracy: 0.676 Test accuracy: 0.634\n",
      "Combination 5/14\n",
      "Train accuracy: 0.700 Test accuracy: 0.646\n",
      "Combination 6/14\n",
      "Train accuracy: 0.753 Test accuracy: 0.644\n",
      "Combination 7/14\n",
      "Train accuracy: 0.799 Test accuracy: 0.630\n",
      "Combination 8/14\n",
      "Train accuracy: 0.845 Test accuracy: 0.621\n",
      "Combination 9/14\n",
      "Train accuracy: 0.892 Test accuracy: 0.594\n",
      "Combination 10/14\n",
      "Train accuracy: 0.927 Test accuracy: 0.591\n",
      "Combination 11/14\n",
      "Train accuracy: 0.953 Test accuracy: 0.583\n",
      "Combination 12/14\n",
      "Train accuracy: 0.970 Test accuracy: 0.569\n",
      "Combination 13/14\n",
      "Train accuracy: 0.981 Test accuracy: 0.574\n",
      "Combination 14/14\n",
      "Train accuracy: 0.988 Test accuracy: 0.580\n",
      "done\n",
      "    Train_accuracy  Valid_accuracy  max_depth\n",
      "0         0.452188         0.44875          1\n",
      "1         0.618750         0.60375          2\n",
      "2         0.648438         0.63875          3\n",
      "3         0.676250         0.63375          4\n",
      "4         0.700313         0.64625          5\n",
      "5         0.753125         0.64375          6\n",
      "6         0.799063         0.63000          7\n",
      "7         0.845000         0.62125          8\n",
      "8         0.891875         0.59375          9\n",
      "9         0.926562         0.59125         10\n",
      "10        0.952812         0.58250         11\n",
      "11        0.970313         0.56875         12\n",
      "12        0.980938         0.57375         13\n",
      "13        0.987812         0.58000         14\n"
     ]
    }
   ],
   "source": [
    "# Create decision tree\n",
    "from sklearn.tree import DecisionTreeClassifier\n",
    "#  grid search\n",
    "from sklearn.model_selection import ParameterGrid\n",
    "Maximum_depth=15\n",
    "depth_range = np.arange(1, Maximum_depth) \n",
    "grid = ParameterGrid({'max_depth': depth_range})\n",
    "dt_test_scores = []\n",
    "\n",
    "for i, params_dict  in enumerate(grid, 1):\n",
    "    # Print progress\n",
    "    print('Combination {}/{}'.format(\n",
    "        i, len(grid) # Total number of combinations\n",
    "    ))\n",
    "    \n",
    "    dt_max_depth = DecisionTreeClassifier(criterion='gini', max_depth=i, random_state=0)\n",
    "\n",
    "    # Fit decision tree\n",
    "    dt_max_depth.fit(X_tr2, y_tr2)\n",
    "        \n",
    "    # Get train/test scores\n",
    "    params_dict['Train_accuracy'] = dt_max_depth.score(X_tr2, y_tr2)\n",
    "    params_dict['Valid_accuracy'] = dt_max_depth.score(X_valid2, y_valid2)\n",
    "    print('Train accuracy: {:.3f}'.\n",
    "          format(params_dict['Train_accuracy']),\n",
    "          'Test accuracy: {:.3f}'\n",
    "          .format(params_dict['Valid_accuracy']))\n",
    "\n",
    "    # Save result\n",
    "    dt_test_scores.append(params_dict)\n",
    "\n",
    "print('done')\n",
    "\n",
    "# Create DataFrame with scores\n",
    "dt_test_scores_df=pd.DataFrame(dt_test_scores)\n",
    "print(dt_test_scores_df)"
   ]
  },
  {
   "cell_type": "code",
   "execution_count": 8,
   "metadata": {},
   "outputs": [
    {
     "data": {
      "image/png": "[encoded data removed]",
      "text/plain": [
       "<Figure size 864x432 with 1 Axes>"
      ]
     },
     "metadata": {},
     "output_type": "display_data"
    }
   ],
   "source": [
    "# Plot Validation curve\n",
    "plt.figure( figsize=(12, 6))\n",
    "plt.plot(dt_test_scores_df.max_depth, dt_test_scores_df.Train_accuracy, label='Train Accuracy')\n",
    "plt.plot(dt_test_scores_df.max_depth, dt_test_scores_df.Valid_accuracy, label='Valid Accuracy')\n",
    "plt.xlabel('max_depth')\n",
    "plt.ylabel('accuracy')\n",
    "# x-ticks  for single values\n",
    "plt.xticks(np.arange(Maximum_depth), np.arange(Maximum_depth))\n",
    "plt.legend()\n",
    "plt.show()"
   ]
  },
  {
   "cell_type": "markdown",
   "metadata": {},
   "source": [
    "-> observation: Training Accuracy is increasing towards 1.0, \n",
    "but Validation Accuracy is not increasing (slightly decreasing)"
   ]
  },
  {
   "cell_type": "code",
   "execution_count": 9,
   "metadata": {},
   "outputs": [
    {
     "name": "stdout",
     "output_type": "stream",
     "text": [
      "Top accuracy on validation set:  0.646 with depth 5\n"
     ]
    }
   ],
   "source": [
    "# Print maximum accuracy\n",
    "#print(test_scores_df)\n",
    "idx = dt_test_scores_df.Valid_accuracy.idxmax() # Index of maximum value\n",
    "max_accuracy = dt_test_scores_df.Valid_accuracy[idx]\n",
    "best_depth = dt_test_scores_df.max_depth[idx]\n",
    "print('Top accuracy on validation set:  {:.3f} with depth {}'\n",
    "      .format(max_accuracy, best_depth))"
   ]
  },
  {
   "cell_type": "code",
   "execution_count": null,
   "metadata": {},
   "outputs": [],
   "source": []
  },
  {
   "cell_type": "markdown",
   "metadata": {},
   "source": [
    "# second task\n",
    "Create a random forest classifier. Try different sizes of ensemble."
   ]
  },
  {
   "cell_type": "code",
   "execution_count": 10,
   "metadata": {},
   "outputs": [],
   "source": [
    "import numpy as np\n",
    "\n",
    "# Helper function\n",
    "def decision_surface(x1, x2, y, estimator):\n",
    "    # Create figure\n",
    "    fig = plt.figure(figsize=(6, 6))\n",
    "    axes = fig.gca() # Get the current axes\n",
    "\n",
    "    # Same scale for x- and y-axis\n",
    "    axes.set_aspect('equal', adjustable='box')\n",
    "\n",
    "    # Plot data points\n",
    "    class1_idx = (y == 1)\n",
    "\n",
    "    plt.scatter(x1[class1_idx], x2[class1_idx],\n",
    "        color=red, label='class 1')\n",
    "    plt.scatter(x1[~class1_idx], x2[~class1_idx],\n",
    "        color=blue, label='class 0')\n",
    "\n",
    "    # Create a grid of values\n",
    "    xlim, ylim = axes.get_xlim(), axes.get_ylim()\n",
    "    x_values = np.linspace(*xlim, num=500)\n",
    "    y_values = np.linspace(*ylim, num=500)\n",
    "    xx, yy = np.meshgrid(x_values, y_values)\n",
    "    grid_points = np.c_[xx.flatten(), yy.flatten()]\n",
    "\n",
    "    # Compute predictions\n",
    "    preds = estimator.predict(grid_points)\n",
    "    zz = preds.reshape(xx.shape)\n",
    "\n",
    "    # Draw decision boundary\n",
    "    plt.contour(xx, yy, zz, levels=[0.5], colors='gray')\n",
    "\n",
    "    # Plot decision surface\n",
    "    plt.contourf(xx, yy, zz, alpha=0.1, cmap=plt.cm.coolwarm)\n",
    "\n",
    "    # Show labels on a white frame\n",
    "    plt.legend(frameon=True, facecolor='white')\n",
    "    plt.show()"
   ]
  },
  {
   "cell_type": "code",
   "execution_count": 11,
   "metadata": {},
   "outputs": [
    {
     "data": {
      "image/png": "[encoded data removed]",
      "text/plain": [
       "<Figure size 432x288 with 1 Axes>"
      ]
     },
     "metadata": {},
     "output_type": "display_data"
    }
   ],
   "source": [
    "# Get a few colors from the default color palette\n",
    "blue, green, red = sns.color_palette()[:3]\n",
    "\n",
    "# Same scale for x- and y-axis\n",
    "plt.gca().set_aspect('equal', adjustable='box')\n",
    "\n",
    "# Plot data\n",
    "class1_idx = (y == 1)\n",
    "\n",
    "plt.scatter(X[:, 0][class1_idx], X[:, 1][class1_idx],\n",
    "            c=red, label='class 1')\n",
    "plt.scatter(X[:, 0][~class1_idx], X[:, 1][~class1_idx],\n",
    "            c=blue, label='class 0')\n",
    "# Show labels on a white frame\n",
    "plt.legend(frameon=True, facecolor='white')\n",
    "plt.show()"
   ]
  },
  {
   "cell_type": "code",
   "execution_count": 12,
   "metadata": {},
   "outputs": [
    {
     "name": "stderr",
     "output_type": "stream",
     "text": [
      "C:\\Users\\x\\Anaconda3\\envs\\exts-aml2\\lib\\site-packages\\sklearn\\ensemble\\weight_boosting.py:29: DeprecationWarning: numpy.core.umath_tests is an internal NumPy module and should not be imported. It will be removed in a future NumPy release.\n",
      "  from numpy.core.umath_tests import inner1d\n"
     ]
    },
    {
     "name": "stdout",
     "output_type": "stream",
     "text": [
      "Combination 1/24\n",
      "Train accuracy: 0.820 Test accuracy: 0.496\n",
      "Combination 2/24\n",
      "Train accuracy: 0.790 Test accuracy: 0.431\n",
      "Combination 3/24\n",
      "Train accuracy: 0.904 Test accuracy: 0.497\n",
      "Combination 4/24\n",
      "Train accuracy: 0.932 Test accuracy: 0.536\n",
      "Combination 5/24\n",
      "Train accuracy: 0.958 Test accuracy: 0.549\n",
      "Combination 6/24\n",
      "Train accuracy: 0.973 Test accuracy: 0.560\n",
      "Combination 7/24\n",
      "Train accuracy: 0.983 Test accuracy: 0.586\n",
      "Combination 8/24\n",
      "Train accuracy: 0.987 Test accuracy: 0.583\n",
      "Combination 9/24\n",
      "Train accuracy: 0.992 Test accuracy: 0.588\n",
      "Combination 10/24\n",
      "Train accuracy: 0.993 Test accuracy: 0.605\n",
      "Combination 11/24\n",
      "Train accuracy: 0.997 Test accuracy: 0.629\n",
      "Combination 12/24\n",
      "Train accuracy: 0.998 Test accuracy: 0.621\n",
      "Combination 13/24\n",
      "Train accuracy: 0.998 Test accuracy: 0.634\n",
      "Combination 14/24\n",
      "Train accuracy: 0.998 Test accuracy: 0.655\n",
      "Combination 15/24\n",
      "Train accuracy: 0.999 Test accuracy: 0.656\n",
      "Combination 16/24\n",
      "Train accuracy: 0.999 Test accuracy: 0.659\n",
      "Combination 17/24\n",
      "Train accuracy: 1.000 Test accuracy: 0.667\n",
      "Combination 18/24\n",
      "Train accuracy: 1.000 Test accuracy: 0.677\n",
      "Combination 19/24\n",
      "Train accuracy: 1.000 Test accuracy: 0.680\n",
      "Combination 20/24\n",
      "Train accuracy: 1.000 Test accuracy: 0.671\n",
      "Combination 21/24\n",
      "Train accuracy: 1.000 Test accuracy: 0.675\n",
      "Combination 22/24\n",
      "Train accuracy: 1.000 Test accuracy: 0.677\n",
      "Combination 23/24\n",
      "Train accuracy: 1.000 Test accuracy: 0.682\n",
      "Combination 24/24\n",
      "Train accuracy: 1.000 Test accuracy: 0.675\n",
      "done\n",
      "    Train_accuracy  Valid_accuracy  n_estimators\n",
      "0         0.820000         0.49625            10\n",
      "1         0.789687         0.43125            20\n",
      "2         0.903750         0.49750            30\n",
      "3         0.932500         0.53625            40\n",
      "4         0.958125         0.54875            50\n",
      "5         0.972812         0.56000            60\n",
      "6         0.983437         0.58625            70\n",
      "7         0.987187         0.58250            80\n",
      "8         0.991875         0.58750            90\n",
      "9         0.993437         0.60500           100\n",
      "10        0.996875         0.62875           110\n",
      "11        0.997500         0.62125           120\n",
      "12        0.998125         0.63375           130\n",
      "13        0.998437         0.65500           140\n",
      "14        0.999062         0.65625           150\n",
      "15        0.999062         0.65875           160\n",
      "16        1.000000         0.66750           170\n",
      "17        1.000000         0.67750           180\n",
      "18        1.000000         0.68000           190\n",
      "19        1.000000         0.67125           200\n",
      "20        1.000000         0.67500           210\n",
      "21        1.000000         0.67750           220\n",
      "22        1.000000         0.68250           230\n",
      "23        1.000000         0.67500           240\n"
     ]
    }
   ],
   "source": [
    "#  grid search\n",
    "from sklearn.model_selection import ParameterGrid\n",
    "from sklearn.ensemble import RandomForestClassifier\n",
    "Maximum_estimators=250\n",
    "depth_range = np.arange(10, Maximum_estimators,10) \n",
    "grid = ParameterGrid({'n_estimators': depth_range})\n",
    "rf_test_scores=[]\n",
    "\n",
    "for i, params_dict  in enumerate(grid, 1):\n",
    "    # Print progress\n",
    "    print('Combination {}/{}'.format(\n",
    "        i, len(grid) # Total number of combinations\n",
    "    ))\n",
    "    \n",
    "    rf = RandomForestClassifier(n_estimators=i, max_depth=None, random_state=0)\n",
    "\n",
    "    # Fit estimator\n",
    "    rf.fit(X_tr2, y_tr2)\n",
    "             \n",
    "    # Get train/test scores\n",
    "    params_dict['Train_accuracy'] = rf.score(X_tr2, y_tr2)\n",
    "    params_dict['Valid_accuracy'] = rf.score(X_valid2, y_valid2)\n",
    "    print('Train accuracy: {:.3f}'.\n",
    "          format(params_dict['Train_accuracy']),\n",
    "          'Test accuracy: {:.3f}'\n",
    "          .format(params_dict['Valid_accuracy']))\n",
    "\n",
    "    # Save result\n",
    "    rf_test_scores.append(params_dict)\n",
    "\n",
    "print('done')\n",
    "\n",
    "# Create DataFrame with scores\n",
    "rf_test_scores_df=pd.DataFrame(rf_test_scores)\n",
    "print(rf_test_scores_df)"
   ]
  },
  {
   "cell_type": "code",
   "execution_count": 13,
   "metadata": {},
   "outputs": [
    {
     "data": {
      "image/png": "[encoded data removed]",
      "text/plain": [
       "<Figure size 864x432 with 1 Axes>"
      ]
     },
     "metadata": {},
     "output_type": "display_data"
    }
   ],
   "source": [
    "# Plot Validation curve\n",
    "plt.figure( figsize=(12, 6))\n",
    "plt.plot(rf_test_scores_df.n_estimators, rf_test_scores_df.Train_accuracy, label='Train Accuracy')\n",
    "plt.plot(rf_test_scores_df.n_estimators, rf_test_scores_df.Valid_accuracy, label='Valid Accuracy')\n",
    "plt.xlabel('max_depth')\n",
    "plt.ylabel('accuracy')\n",
    "# x-ticks  for single values\n",
    "#plt.xticks(np.arange(Maximum_depth), np.arange(Maximum_depth))\n",
    "plt.legend()\n",
    "plt.show()"
   ]
  },
  {
   "cell_type": "markdown",
   "metadata": {},
   "source": [
    "-> observation: Training Accuracy is increasing towards 1.0, \n",
    "but Validation Accuracy is not increasing anymore"
   ]
  },
  {
   "cell_type": "code",
   "execution_count": 14,
   "metadata": {},
   "outputs": [
    {
     "name": "stdout",
     "output_type": "stream",
     "text": [
      "Top accuracy on validation set:  0.682 with estimators 230\n"
     ]
    }
   ],
   "source": [
    "# Print k with maximum accuracy\n",
    "#print(test_scores_df)\n",
    "idx = rf_test_scores_df.Valid_accuracy.idxmax() # Index of maximum value\n",
    "max_accuracy = rf_test_scores_df.Valid_accuracy[idx]\n",
    "best_estimators = rf_test_scores_df.n_estimators[idx]\n",
    "print('Top accuracy on validation set:  {:.3f} with estimators {}'\n",
    "      .format(max_accuracy, best_estimators))"
   ]
  },
  {
   "cell_type": "code",
   "execution_count": null,
   "metadata": {},
   "outputs": [],
   "source": []
  },
  {
   "cell_type": "code",
   "execution_count": 15,
   "metadata": {},
   "outputs": [
    {
     "name": "stdout",
     "output_type": "stream",
     "text": [
      "Decision tree - mean test 0.588\n",
      "Random forest - mean test 0.689\n"
     ]
    }
   ],
   "source": [
    "#In comparison with cross_validate\n",
    "from sklearn.model_selection import cross_validate\n",
    "\n",
    "# Mean test score of a single decision tree (max depth)\n",
    "dt_scores = cross_validate(dt_max_depth, X_tr2, y_tr2, cv=10)\n",
    "print('Decision tree - mean test {:.3f}'.format(\n",
    "    np.mean(dt_scores['test_score'])))\n",
    "\n",
    "# Mean test score of a random forest (200x, max depth)\n",
    "rf_scores = cross_validate(rf, X_tr2, y_tr2, cv=10)\n",
    "print('Random forest - mean test {:.3f}'.format(np.mean(rf_scores['test_score'])))"
   ]
  },
  {
   "cell_type": "code",
   "execution_count": null,
   "metadata": {},
   "outputs": [],
   "source": []
  },
  {
   "cell_type": "markdown",
   "metadata": {},
   "source": [
    "# Third task\n",
    "Finally, fit your (tuned) decision tree and random forest estimators on the entire train\n",
    "set with 4,000 data points and evaluate them on the test set. Print the accuracy values"
   ]
  },
  {
   "cell_type": "code",
   "execution_count": 16,
   "metadata": {},
   "outputs": [
    {
     "name": "stdout",
     "output_type": "stream",
     "text": [
      "Decision tree accuracy (test set):  0.658\n"
     ]
    }
   ],
   "source": [
    "# Create decision tree\n",
    "dt_best = DecisionTreeClassifier(criterion='gini', max_depth=5, random_state=0)\n",
    "# Fit decision tree\n",
    "dt_best.fit(X_tr, y_tr)\n",
    "dt_score=dt_best.score(X_te, y_te)\n",
    "print('Decision tree accuracy (test set): ',dt_score)"
   ]
  },
  {
   "cell_type": "code",
   "execution_count": 17,
   "metadata": {},
   "outputs": [
    {
     "name": "stdout",
     "output_type": "stream",
     "text": [
      "Random forest accuracy (test set): 0.797\n"
     ]
    }
   ],
   "source": [
    "#  Random forest\n",
    "rf_best = RandomForestClassifier(n_estimators=170, max_depth=None, random_state=0)\n",
    "# Fit estimator\n",
    "rf_best.fit(X_tr, y_tr)\n",
    "rf_score=rf_best.score(X_te, y_te)\n",
    "print('Random forest accuracy (test set):',rf_score)"
   ]
  },
  {
   "cell_type": "code",
   "execution_count": null,
   "metadata": {},
   "outputs": [],
   "source": []
  },
  {
   "cell_type": "code",
   "execution_count": 18,
   "metadata": {},
   "outputs": [
    {
     "name": "stdout",
     "output_type": "stream",
     "text": [
      "           model  test accuracy\n",
      "0           k-NN          0.794\n",
      "1  decision tree          0.658\n",
      "2  random forest          0.797\n",
      "3     svm linear          0.797\n",
      "4        svm rbf          0.842\n",
      "5       logistic          0.810\n",
      "6          fc nn          0.839\n",
      "7            cnn          0.816\n"
     ]
    }
   ],
   "source": [
    "# Load data & Save Results\n",
    "Result_df = pd.read_csv('Result_df.csv')\n",
    "print(Result_df.head(9))"
   ]
  },
  {
   "cell_type": "code",
   "execution_count": 19,
   "metadata": {},
   "outputs": [
    {
     "name": "stdout",
     "output_type": "stream",
     "text": [
      "           model  test accuracy\n",
      "0           k-NN          0.794\n",
      "1  decision tree          0.658\n",
      "2  random forest          0.797\n",
      "3     svm linear          0.797\n",
      "4        svm rbf          0.842\n",
      "5       logistic          0.810\n",
      "6          fc nn          0.839\n",
      "7            cnn          0.816\n"
     ]
    }
   ],
   "source": [
    "Result_df.iloc[1,1]=dt_score\n",
    "Result_df.iloc[2,1]=rf_score\n",
    "print(Result_df.head(9))\n",
    "#Write Result as Dataframe to file\n",
    "Result_df.to_csv('Result_df.csv', index=False, float_format='%.3f')"
   ]
  }
 ],
 "metadata": {
  "kernelspec": {
   "display_name": "Python 3",
   "language": "python",
   "name": "python3"
  },
  "language_info": {
   "codemirror_mode": {
    "name": "ipython",
    "version": 3
   },
   "file_extension": ".py",
   "mimetype": "text/x-python",
   "name": "python",
   "nbconvert_exporter": "python",
   "pygments_lexer": "ipython3",
   "version": "3.6.6"
  }
 },
 "nbformat": 4,
 "nbformat_minor": 2
}
