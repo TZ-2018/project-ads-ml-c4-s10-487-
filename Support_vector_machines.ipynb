{
 "cells": [
  {
   "cell_type": "markdown",
   "metadata": {},
   "source": [
    "# Support vector machines"
   ]
  },
  {
   "cell_type": "code",
   "execution_count": 1,
   "metadata": {},
   "outputs": [
    {
     "name": "stdout",
     "output_type": "stream",
     "text": [
      "It is a dictionary with keys: ['pixels', 'overfeat', 'labels', 'names', 'allow_pickle']\n"
     ]
    }
   ],
   "source": [
    "import numpy as np\n",
    "import pandas as pd\n",
    "from sklearn.model_selection import train_test_split\n",
    "from sklearn.preprocessing import StandardScaler\n",
    "%matplotlib inline\n",
    "import matplotlib.pyplot as plt\n",
    "from sklearn.decomposition import PCA\n",
    "import seaborn as sns\n",
    "sns.set()\n",
    "\n",
    "# Load data\n",
    "with np.load('cifar4-train.npz', allow_pickle=False) as npz_file:\n",
    "    cifar_train = dict(npz_file.items())\n",
    "print('It is a dictionary with keys:', list(cifar_train.keys()))\n",
    "#cifar_train  "
   ]
  },
  {
   "cell_type": "code",
   "execution_count": 2,
   "metadata": {},
   "outputs": [
    {
     "name": "stdout",
     "output_type": "stream",
     "text": [
      "X: (5000, 4096) float32\n",
      "y: (5000,) int64\n",
      "pixels: (5000, 3072) float32\n",
      "names: ['truck' 'car' 'airplane' 'ship']\n"
     ]
    }
   ],
   "source": [
    "# Create X/y arrays\n",
    "X = cifar_train['overfeat']\n",
    "y = cifar_train['labels']\n",
    "names = cifar_train['names']\n",
    "pixels = cifar_train['pixels'].astype(np.float32)\n",
    "pixels = pixels / 255\n",
    "\n",
    "print('X:', X.shape, X.dtype)\n",
    "print('y:', y.shape, y.dtype)\n",
    "print('pixels:', pixels.shape, pixels.dtype)\n",
    "print('names:', names)"
   ]
  },
  {
   "cell_type": "code",
   "execution_count": 3,
   "metadata": {},
   "outputs": [
    {
     "name": "stdout",
     "output_type": "stream",
     "text": [
      "pixels_reshaped: (5000, 32, 32, 3) float32\n"
     ]
    }
   ],
   "source": [
    "# Reshape images: 32 by 32 with 3 (RGB) color channels\n",
    "pixels_reshaped = pixels.reshape(-1, 32, 32, 3)\n",
    "print('pixels_reshaped:', pixels_reshaped.shape, pixels_reshaped.dtype)\n",
    "#print(pixels_reshaped)"
   ]
  },
  {
   "cell_type": "code",
   "execution_count": 4,
   "metadata": {},
   "outputs": [
    {
     "name": "stdout",
     "output_type": "stream",
     "text": [
      "Train set: (4000, 4096) (4000,)\n",
      "Test set: (1000, 4096) (1000,)\n",
      "Pixels set: (4000, 3072) (1000, 3072)\n"
     ]
    }
   ],
   "source": [
    "from sklearn.model_selection import train_test_split\n",
    "\n",
    "# Convert the type of the input matrix to float\n",
    "X = X.astype(np.float)\n",
    "\n",
    "# Split data into train/test sets\n",
    "X_tr, X_te, y_tr, y_te, Pix_tr, Pix_te = train_test_split(\n",
    "    X, y, pixels, train_size=4000, test_size=1000, random_state=0, stratify=y)\n",
    "print('Train set:', X_tr.shape, y_tr.shape)\n",
    "print('Test set:', X_te.shape, y_te.shape)\n",
    "print('Pixels set:', Pix_tr.shape, Pix_te.shape)"
   ]
  },
  {
   "cell_type": "code",
   "execution_count": 5,
   "metadata": {},
   "outputs": [
    {
     "name": "stderr",
     "output_type": "stream",
     "text": [
      "C:\\Users\\x\\Anaconda3\\envs\\exts-aml2\\lib\\site-packages\\ipykernel_launcher.py:23: FutureWarning: from_items is deprecated. Please use DataFrame.from_dict(dict(items), ...) instead. DataFrame.from_dict(OrderedDict(items)) may be used to preserve the key order.\n"
     ]
    }
   ],
   "source": [
    "# overfeat data: 176 values = 90% of the variance explained\n",
    "from sklearn.preprocessing import StandardScaler\n",
    "features=pd.DataFrame(X_tr) #convert to dataframe\n",
    "# Create Standard scaler\n",
    "scaler = StandardScaler()\n",
    "\n",
    "# Rescale data\n",
    "X_rescaled = scaler.fit_transform(X_tr)\n",
    "\n",
    "# Create PCA transformer\n",
    "pca_n = PCA(n_components=176)  #176 Components for Sum-PVE= 0.9001692523306701\n",
    "\n",
    "# Apply PCA to rescaled data\n",
    "X_2d_rescaled = pca_n.fit_transform(X_rescaled)\n",
    "X_2d_rescaled_df=pd.DataFrame(X_2d_rescaled)\n",
    "#print(X_2d_rescaled_df.head())\n",
    "\n",
    "# Create DataFrame with variance and principal components\n",
    "results_df2 = pd.DataFrame.from_items([\n",
    "    ('variance', X_rescaled.var(axis=0)),\n",
    "    ('1st component', pca_n.components_[0]),\n",
    "    ('2nd component', pca_n.components_[1]),\n",
    "    ('3nd component', pca_n.components_[2])\n",
    "]).set_index(features.columns)\n",
    "\n",
    "# Sort DataFrame by the coefficients of the 1st loading vector\n",
    "#results_df2.sort_values('1st component', ascending=False).head()"
   ]
  },
  {
   "cell_type": "markdown",
   "metadata": {},
   "source": [
    "# first task: \n",
    "Create an SVM classifier with a linear kernel. Tune its C parameter."
   ]
  },
  {
   "cell_type": "code",
   "execution_count": 6,
   "metadata": {},
   "outputs": [
    {
     "name": "stdout",
     "output_type": "stream",
     "text": [
      "Train set: (3200, 176) (3200,)\n",
      "Sub set: (800, 176) (800,)\n"
     ]
    }
   ],
   "source": [
    "# Split data into train/validation sets\n",
    "X_tr2, X_valid2, y_tr2, y_valid2 = train_test_split(\n",
    "    X_2d_rescaled_df, y_tr, train_size=3200, test_size=800, random_state=0, stratify=y_tr)\n",
    "print('Train set:', X_tr2.shape, y_tr2.shape)\n",
    "print('Sub set:', X_valid2.shape, y_valid2.shape)"
   ]
  },
  {
   "cell_type": "code",
   "execution_count": 7,
   "metadata": {},
   "outputs": [
    {
     "name": "stdout",
     "output_type": "stream",
     "text": [
      "Combination 1/9\n",
      "Train accuracy: 0.822 Test accuracy: 0.786\n",
      "Combination 2/9\n",
      "Train accuracy: 0.833 Test accuracy: 0.796\n",
      "Combination 3/9\n",
      "Train accuracy: 0.817 Test accuracy: 0.787\n",
      "Combination 4/9\n",
      "Train accuracy: 0.816 Test accuracy: 0.772\n",
      "Combination 5/9\n",
      "Train accuracy: 0.810 Test accuracy: 0.780\n",
      "Combination 6/9\n",
      "Train accuracy: 0.808 Test accuracy: 0.789\n",
      "Combination 7/9\n",
      "Train accuracy: 0.797 Test accuracy: 0.770\n",
      "Combination 8/9\n",
      "Train accuracy: 0.815 Test accuracy: 0.784\n",
      "Combination 9/9\n",
      "Train accuracy: 0.828 Test accuracy: 0.795\n",
      "done\n",
      "   C_range  Train_accuracy  Valid_accuracy\n",
      "0        1        0.822187         0.78625\n",
      "1        2        0.832812         0.79625\n",
      "2        3        0.816875         0.78750\n",
      "3        4        0.816250         0.77250\n",
      "4        5        0.810000         0.78000\n",
      "5        6        0.808125         0.78875\n",
      "6        7        0.797188         0.77000\n",
      "7        8        0.815000         0.78375\n",
      "8        9        0.828125         0.79500\n"
     ]
    }
   ],
   "source": [
    "# Create SVM with linear kernel.\n",
    "#grid search without cross-validation\n",
    "from sklearn.svm import LinearSVC\n",
    "#  grid search\n",
    "from sklearn.model_selection import ParameterGrid\n",
    "Maximum_C=10\n",
    "C_range = np.arange(1, Maximum_C) \n",
    "grid = ParameterGrid({'C_range': C_range})\n",
    "svm_lin_test_scores = []\n",
    "\n",
    "for i, params_dict  in enumerate(grid, 1):\n",
    "    # Print progress\n",
    "    print('Combination {}/{}'.format(\n",
    "        i, len(grid) # Total number of combinations\n",
    "    ))\n",
    "    \n",
    "    linear_svc = LinearSVC(C=i, random_state=0)\n",
    "\n",
    "    # Fit estimator\n",
    "    linear_svc.fit(X_tr2, y_tr2)\n",
    "        \n",
    "    # Get train/test scores\n",
    "    params_dict['Train_accuracy'] = linear_svc.score(X_tr2, y_tr2)\n",
    "    params_dict['Valid_accuracy'] = linear_svc.score(X_valid2, y_valid2)\n",
    "    print('Train accuracy: {:.3f}'.\n",
    "          format(params_dict['Train_accuracy']),\n",
    "          'Test accuracy: {:.3f}'\n",
    "          .format(params_dict['Valid_accuracy']))\n",
    "\n",
    "    # Save result\n",
    "    svm_lin_test_scores.append(params_dict)\n",
    "\n",
    "print('done')\n",
    "\n",
    "# Create DataFrame with scores\n",
    "svm_lin_test_scores_df=pd.DataFrame(svm_lin_test_scores)\n",
    "print(svm_lin_test_scores_df)"
   ]
  },
  {
   "cell_type": "code",
   "execution_count": 8,
   "metadata": {
    "scrolled": true
   },
   "outputs": [
    {
     "data": {
      "image/png": "[encoded data removed]",
      "text/plain": [
       "<Figure size 864x360 with 1 Axes>"
      ]
     },
     "metadata": {},
     "output_type": "display_data"
    }
   ],
   "source": [
    "# Plot test curve\n",
    "plt.figure( figsize=(12, 5))\n",
    "plt.plot(svm_lin_test_scores_df.C_range, svm_lin_test_scores_df.Train_accuracy, label='Train Accuracy')\n",
    "plt.plot(svm_lin_test_scores_df.C_range, svm_lin_test_scores_df.Valid_accuracy, label='Valid Accuracy')\n",
    "plt.xlabel('C_range')\n",
    "plt.ylabel('accuracy')\n",
    "# x-ticks  for single k values\n",
    "plt.xticks(np.arange(Maximum_C), np.arange(Maximum_C))\n",
    "plt.legend()\n",
    "plt.show()"
   ]
  },
  {
   "cell_type": "code",
   "execution_count": 9,
   "metadata": {},
   "outputs": [
    {
     "name": "stdout",
     "output_type": "stream",
     "text": [
      "Top accuracy on validation set:  0.796 with C= 2\n"
     ]
    }
   ],
   "source": [
    "# Print maximum accuracy without cross-validation\n",
    "#print(test_scores_df)\n",
    "idx = svm_lin_test_scores_df.Valid_accuracy.idxmax() # Index of maximum value\n",
    "max_accuracy = svm_lin_test_scores_df.Valid_accuracy[idx]\n",
    "best_C = svm_lin_test_scores_df.C_range[idx]\n",
    "print('Top accuracy on validation set:  {:.3f} with C= {}'\n",
    "      .format(max_accuracy, best_C))"
   ]
  },
  {
   "cell_type": "code",
   "execution_count": null,
   "metadata": {},
   "outputs": [],
   "source": []
  },
  {
   "cell_type": "code",
   "execution_count": 10,
   "metadata": {
    "scrolled": true
   },
   "outputs": [
    {
     "data": {
      "text/plain": [
       "GridSearchCV(cv=5, error_score='raise',\n",
       "       estimator=Pipeline(memory=None,\n",
       "     steps=[('scaler', None), ('logreg', LogisticRegression(C=1.0, class_weight=None, dual=False, fit_intercept=True,\n",
       "          intercept_scaling=1, max_iter=100, multi_class='ovr', n_jobs=1,\n",
       "          penalty='l2', random_state=None, solver='liblinear', tol=0.0001,\n",
       "          verbose=0, warm_start=False))]),\n",
       "       fit_params=None, iid=True, n_jobs=-1,\n",
       "       param_grid=[{'logreg__multi_class': ['ovr'], 'logreg__C': [0.1, 1, 10], 'logreg__solver': ['liblinear']}],\n",
       "       pre_dispatch='2*n_jobs', refit=True, return_train_score='warn',\n",
       "       scoring=None, verbose=0)"
      ]
     },
     "execution_count": 10,
     "metadata": {},
     "output_type": "execute_result"
    }
   ],
   "source": [
    "#grid search with cross-validation\n",
    "from sklearn.linear_model import LogisticRegression\n",
    "from sklearn.model_selection import GridSearchCV\n",
    "from sklearn.pipeline import Pipeline\n",
    "from sklearn.preprocessing import StandardScaler\n",
    "\n",
    "# Create pipeline\n",
    "pipe = Pipeline([\n",
    "    ('scaler', None), # Optional step\n",
    "    ('logreg', LogisticRegression())\n",
    "])\n",
    "\n",
    "# Create cross-validation object\n",
    "grid_cv = GridSearchCV(pipe, [{\n",
    "    'logreg__multi_class': ['ovr'],\n",
    "    'logreg__C': [0.1, 1, 10],\n",
    "    'logreg__solver': ['liblinear']\n",
    "}], n_jobs=-1, cv=5)\n",
    "\n",
    "# Fit estimator\n",
    "grid_cv.fit(X_tr2, y_tr2)"
   ]
  },
  {
   "cell_type": "code",
   "execution_count": 11,
   "metadata": {},
   "outputs": [
    {
     "data": {
      "text/plain": [
       "0.825625"
      ]
     },
     "execution_count": 11,
     "metadata": {},
     "output_type": "execute_result"
    }
   ],
   "source": [
    "grid_cv.best_score_"
   ]
  },
  {
   "cell_type": "code",
   "execution_count": 12,
   "metadata": {
    "scrolled": true
   },
   "outputs": [
    {
     "data": {
      "text/plain": [
       "{'logreg__C': 0.1, 'logreg__multi_class': 'ovr', 'logreg__solver': 'liblinear'}"
      ]
     },
     "execution_count": 12,
     "metadata": {},
     "output_type": "execute_result"
    }
   ],
   "source": [
    "grid_cv.best_params_"
   ]
  },
  {
   "cell_type": "code",
   "execution_count": 13,
   "metadata": {
    "scrolled": false
   },
   "outputs": [
    {
     "name": "stderr",
     "output_type": "stream",
     "text": [
      "C:\\Users\\x\\Anaconda3\\envs\\exts-aml2\\lib\\site-packages\\ipykernel_launcher.py:6: FutureWarning: from_items is deprecated. Please use DataFrame.from_dict(dict(items), ...) instead. DataFrame.from_dict(OrderedDict(items)) may be used to preserve the key order.\n",
      "  \n"
     ]
    },
    {
     "data": {
      "text/html": [
       "<div>\n",
       "<style scoped>\n",
       "    .dataframe tbody tr th:only-of-type {\n",
       "        vertical-align: middle;\n",
       "    }\n",
       "\n",
       "    .dataframe tbody tr th {\n",
       "        vertical-align: top;\n",
       "    }\n",
       "\n",
       "    .dataframe thead th {\n",
       "        text-align: right;\n",
       "    }\n",
       "</style>\n",
       "<table border=\"1\" class=\"dataframe\">\n",
       "  <thead>\n",
       "    <tr style=\"text-align: right;\">\n",
       "      <th></th>\n",
       "      <th>C</th>\n",
       "      <th>multi_class</th>\n",
       "      <th>mean accuracy</th>\n",
       "      <th>standard deviation</th>\n",
       "    </tr>\n",
       "  </thead>\n",
       "  <tbody>\n",
       "    <tr>\n",
       "      <th>0</th>\n",
       "      <td>0.1</td>\n",
       "      <td>ovr</td>\n",
       "      <td>0.825625</td>\n",
       "      <td>0.018556</td>\n",
       "    </tr>\n",
       "    <tr>\n",
       "      <th>1</th>\n",
       "      <td>1</td>\n",
       "      <td>ovr</td>\n",
       "      <td>0.825000</td>\n",
       "      <td>0.019961</td>\n",
       "    </tr>\n",
       "    <tr>\n",
       "      <th>2</th>\n",
       "      <td>10</td>\n",
       "      <td>ovr</td>\n",
       "      <td>0.824063</td>\n",
       "      <td>0.019630</td>\n",
       "    </tr>\n",
       "  </tbody>\n",
       "</table>\n",
       "</div>"
      ],
      "text/plain": [
       "     C multi_class  mean accuracy  standard deviation\n",
       "0  0.1         ovr       0.825625            0.018556\n",
       "1    1         ovr       0.825000            0.019961\n",
       "2   10         ovr       0.824063            0.019630"
      ]
     },
     "execution_count": 13,
     "metadata": {},
     "output_type": "execute_result"
    }
   ],
   "source": [
    "# Collect results in a DataFrame\n",
    "df = pd.DataFrame.from_items([\n",
    "    ('C', grid_cv.cv_results_['param_logreg__C']),\n",
    "    ('multi_class', grid_cv.cv_results_['param_logreg__multi_class']),\n",
    "    ('mean accuracy', grid_cv.cv_results_['mean_test_score']),\n",
    "    ('standard deviation', grid_cv.cv_results_['std_test_score'])\n",
    "])\n",
    "df.sort_values(by='mean accuracy', ascending=False)"
   ]
  },
  {
   "cell_type": "code",
   "execution_count": 14,
   "metadata": {},
   "outputs": [
    {
     "name": "stdout",
     "output_type": "stream",
     "text": [
      "Linear SVM - top accuracy across folds: 0.8256 (std: 0.0186) with C: 0.10\n"
     ]
    }
   ],
   "source": [
    "# Print maximum accuracy\n",
    "idx = df['mean accuracy'].idxmax() # Index of maximum value\n",
    "df1=df['mean accuracy']\n",
    "max_accuracy = df1[idx]\n",
    "df2=df['standard deviation']\n",
    "df2_std = df2[idx]\n",
    "best_lin_C = df.C[idx]\n",
    "print('Linear SVM - top accuracy across folds: {:.4f} (std: {:.4f}) with C: {:.2f}'\n",
    "      .format(max_accuracy, df2_std, best_lin_C))"
   ]
  },
  {
   "cell_type": "code",
   "execution_count": null,
   "metadata": {},
   "outputs": [],
   "source": []
  },
  {
   "cell_type": "markdown",
   "metadata": {},
   "source": [
    "# second task\n",
    "Create an SVM classifier with an RBF kernel. Tune its C and y parameters."
   ]
  },
  {
   "cell_type": "code",
   "execution_count": 15,
   "metadata": {},
   "outputs": [
    {
     "name": "stdout",
     "output_type": "stream",
     "text": [
      "Combination 1/3\n",
      "Train accuracy: 1.000 Test accuracy: 0.251\n",
      "Combination 2/3\n",
      "Train accuracy: 1.000 Test accuracy: 0.250\n",
      "Combination 3/3\n",
      "Train accuracy: 1.000 Test accuracy: 0.250\n",
      "done\n",
      "   Train_accuracy  Valid_accuracy  gamma_range\n",
      "0             1.0         0.25125         0.01\n",
      "1             1.0         0.25000         0.10\n",
      "2             1.0         0.25000         1.00\n"
     ]
    }
   ],
   "source": [
    "# Create SVM with RBF kernel.\n",
    "#grid search without cross-validation\n",
    "from sklearn.svm import SVC\n",
    "from sklearn.model_selection import ParameterGrid\n",
    "gamma_range = [0.01,0.1,1] \n",
    "grid = ParameterGrid({'gamma_range': gamma_range})\n",
    "svm_rbf_test_scores = []\n",
    "\n",
    "for i, params_dict  in enumerate(grid, 1):\n",
    "    # Print progress\n",
    "    print('Combination {}/{}'.format(\n",
    "        i, len(grid) # Total number of combinations\n",
    "    ))\n",
    "    \n",
    "    rbf_svc = SVC(kernel='rbf', C=6, gamma=i, random_state=0)\n",
    "\n",
    "    # Fit estimator\n",
    "    rbf_svc.fit(X_tr2, y_tr2)\n",
    "        \n",
    "    # Get train/test scores\n",
    "    params_dict['Train_accuracy'] = rbf_svc.score(X_tr2, y_tr2)\n",
    "    params_dict['Valid_accuracy'] = rbf_svc.score(X_valid2, y_valid2)\n",
    "    print('Train accuracy: {:.3f}'.\n",
    "          format(params_dict['Train_accuracy']),\n",
    "          'Test accuracy: {:.3f}'\n",
    "          .format(params_dict['Valid_accuracy']))\n",
    "\n",
    "    # Save result\n",
    "    svm_rbf_test_scores.append(params_dict)\n",
    "\n",
    "print('done')\n",
    "\n",
    "# Create DataFrame with scores\n",
    "svm_rbf_test_df_scores=pd.DataFrame(svm_rbf_test_scores)\n",
    "print(svm_rbf_test_df_scores)"
   ]
  },
  {
   "cell_type": "code",
   "execution_count": 16,
   "metadata": {},
   "outputs": [
    {
     "name": "stdout",
     "output_type": "stream",
     "text": [
      "GridSearchCV(cv=5, error_score='raise',\n",
      "       estimator=Pipeline(memory=None,\n",
      "     steps=[('scaler', None), ('SVC', SVC(C=1.0, cache_size=200, class_weight=None, coef0=0.0,\n",
      "  decision_function_shape='ovr', degree=3, gamma='auto', kernel='rbf',\n",
      "  max_iter=-1, probability=False, random_state=None, shrinking=True,\n",
      "  tol=0.001, verbose=False))]),\n",
      "       fit_params=None, iid=True, n_jobs=-1,\n",
      "       param_grid=[{'SVC__kernel': ['rbf'], 'SVC__C': [5, 6, 7, 8, 9], 'SVC__gamma': [5e-05, 8e-05, 0.0001, 0.0005]}],\n",
      "       pre_dispatch='2*n_jobs', refit=True, return_train_score='warn',\n",
      "       scoring=None, verbose=0)\n"
     ]
    }
   ],
   "source": [
    "#grid search with cross-validation\n",
    "#iterated figures (C, gamma) for best accuracy\n",
    "from sklearn.linear_model import LogisticRegression\n",
    "from sklearn.svm import SVC\n",
    "from sklearn.model_selection import GridSearchCV\n",
    "from sklearn.pipeline import Pipeline\n",
    "from sklearn.preprocessing import StandardScaler\n",
    "\n",
    "# Create pipeline\n",
    "pipe = Pipeline([\n",
    "    ('scaler', None), # Optional step\n",
    "    ('SVC', SVC())\n",
    "])\n",
    "\n",
    "# Create cross-validation object\n",
    "grid_cv = GridSearchCV(pipe, [{\n",
    "    'SVC__kernel': ['rbf'],\n",
    "    'SVC__C': [5,6,7,8,9],\n",
    "    'SVC__gamma': [0.00005,0.00008,0.0001,0.0005],\n",
    "    #'max_iter': [100],\n",
    "    #'random_state': [0]\n",
    "}], n_jobs=-1, cv=5)\n",
    "\n",
    "# Fit estimator\n",
    "print(grid_cv.fit(X_tr2, y_tr2))"
   ]
  },
  {
   "cell_type": "code",
   "execution_count": 17,
   "metadata": {},
   "outputs": [
    {
     "data": {
      "text/plain": [
       "0.839375"
      ]
     },
     "execution_count": 17,
     "metadata": {},
     "output_type": "execute_result"
    }
   ],
   "source": [
    "grid_cv.best_score_"
   ]
  },
  {
   "cell_type": "code",
   "execution_count": 18,
   "metadata": {},
   "outputs": [
    {
     "data": {
      "text/plain": [
       "{'SVC__C': 5, 'SVC__gamma': 8e-05, 'SVC__kernel': 'rbf'}"
      ]
     },
     "execution_count": 18,
     "metadata": {},
     "output_type": "execute_result"
    }
   ],
   "source": [
    "grid_cv.best_params_"
   ]
  },
  {
   "cell_type": "code",
   "execution_count": 19,
   "metadata": {},
   "outputs": [
    {
     "name": "stderr",
     "output_type": "stream",
     "text": [
      "C:\\Users\\x\\Anaconda3\\envs\\exts-aml2\\lib\\site-packages\\ipykernel_launcher.py:6: FutureWarning: from_items is deprecated. Please use DataFrame.from_dict(dict(items), ...) instead. DataFrame.from_dict(OrderedDict(items)) may be used to preserve the key order.\n",
      "  \n"
     ]
    },
    {
     "data": {
      "text/html": [
       "<div>\n",
       "<style scoped>\n",
       "    .dataframe tbody tr th:only-of-type {\n",
       "        vertical-align: middle;\n",
       "    }\n",
       "\n",
       "    .dataframe tbody tr th {\n",
       "        vertical-align: top;\n",
       "    }\n",
       "\n",
       "    .dataframe thead th {\n",
       "        text-align: right;\n",
       "    }\n",
       "</style>\n",
       "<table border=\"1\" class=\"dataframe\">\n",
       "  <thead>\n",
       "    <tr style=\"text-align: right;\">\n",
       "      <th></th>\n",
       "      <th>C</th>\n",
       "      <th>gamma</th>\n",
       "      <th>mean accuracy</th>\n",
       "      <th>standard deviation</th>\n",
       "    </tr>\n",
       "  </thead>\n",
       "  <tbody>\n",
       "    <tr>\n",
       "      <th>1</th>\n",
       "      <td>5</td>\n",
       "      <td>8e-05</td>\n",
       "      <td>0.839375</td>\n",
       "      <td>0.016518</td>\n",
       "    </tr>\n",
       "    <tr>\n",
       "      <th>10</th>\n",
       "      <td>7</td>\n",
       "      <td>0.0001</td>\n",
       "      <td>0.838125</td>\n",
       "      <td>0.018318</td>\n",
       "    </tr>\n",
       "    <tr>\n",
       "      <th>6</th>\n",
       "      <td>6</td>\n",
       "      <td>0.0001</td>\n",
       "      <td>0.837812</td>\n",
       "      <td>0.017990</td>\n",
       "    </tr>\n",
       "    <tr>\n",
       "      <th>18</th>\n",
       "      <td>9</td>\n",
       "      <td>0.0001</td>\n",
       "      <td>0.837500</td>\n",
       "      <td>0.017650</td>\n",
       "    </tr>\n",
       "    <tr>\n",
       "      <th>5</th>\n",
       "      <td>6</td>\n",
       "      <td>8e-05</td>\n",
       "      <td>0.837500</td>\n",
       "      <td>0.018724</td>\n",
       "    </tr>\n",
       "    <tr>\n",
       "      <th>14</th>\n",
       "      <td>8</td>\n",
       "      <td>0.0001</td>\n",
       "      <td>0.836875</td>\n",
       "      <td>0.017639</td>\n",
       "    </tr>\n",
       "    <tr>\n",
       "      <th>2</th>\n",
       "      <td>5</td>\n",
       "      <td>0.0001</td>\n",
       "      <td>0.836875</td>\n",
       "      <td>0.016286</td>\n",
       "    </tr>\n",
       "    <tr>\n",
       "      <th>17</th>\n",
       "      <td>9</td>\n",
       "      <td>8e-05</td>\n",
       "      <td>0.836875</td>\n",
       "      <td>0.020363</td>\n",
       "    </tr>\n",
       "    <tr>\n",
       "      <th>8</th>\n",
       "      <td>7</td>\n",
       "      <td>5e-05</td>\n",
       "      <td>0.836875</td>\n",
       "      <td>0.019853</td>\n",
       "    </tr>\n",
       "    <tr>\n",
       "      <th>9</th>\n",
       "      <td>7</td>\n",
       "      <td>8e-05</td>\n",
       "      <td>0.836250</td>\n",
       "      <td>0.020715</td>\n",
       "    </tr>\n",
       "    <tr>\n",
       "      <th>4</th>\n",
       "      <td>6</td>\n",
       "      <td>5e-05</td>\n",
       "      <td>0.835625</td>\n",
       "      <td>0.019350</td>\n",
       "    </tr>\n",
       "    <tr>\n",
       "      <th>16</th>\n",
       "      <td>9</td>\n",
       "      <td>5e-05</td>\n",
       "      <td>0.835625</td>\n",
       "      <td>0.019070</td>\n",
       "    </tr>\n",
       "    <tr>\n",
       "      <th>12</th>\n",
       "      <td>8</td>\n",
       "      <td>5e-05</td>\n",
       "      <td>0.835625</td>\n",
       "      <td>0.018445</td>\n",
       "    </tr>\n",
       "    <tr>\n",
       "      <th>0</th>\n",
       "      <td>5</td>\n",
       "      <td>5e-05</td>\n",
       "      <td>0.835000</td>\n",
       "      <td>0.019430</td>\n",
       "    </tr>\n",
       "    <tr>\n",
       "      <th>13</th>\n",
       "      <td>8</td>\n",
       "      <td>8e-05</td>\n",
       "      <td>0.834688</td>\n",
       "      <td>0.020525</td>\n",
       "    </tr>\n",
       "    <tr>\n",
       "      <th>3</th>\n",
       "      <td>5</td>\n",
       "      <td>0.0005</td>\n",
       "      <td>0.826562</td>\n",
       "      <td>0.015811</td>\n",
       "    </tr>\n",
       "    <tr>\n",
       "      <th>15</th>\n",
       "      <td>8</td>\n",
       "      <td>0.0005</td>\n",
       "      <td>0.826250</td>\n",
       "      <td>0.015762</td>\n",
       "    </tr>\n",
       "    <tr>\n",
       "      <th>11</th>\n",
       "      <td>7</td>\n",
       "      <td>0.0005</td>\n",
       "      <td>0.826250</td>\n",
       "      <td>0.015762</td>\n",
       "    </tr>\n",
       "    <tr>\n",
       "      <th>7</th>\n",
       "      <td>6</td>\n",
       "      <td>0.0005</td>\n",
       "      <td>0.826250</td>\n",
       "      <td>0.015762</td>\n",
       "    </tr>\n",
       "    <tr>\n",
       "      <th>19</th>\n",
       "      <td>9</td>\n",
       "      <td>0.0005</td>\n",
       "      <td>0.826250</td>\n",
       "      <td>0.015762</td>\n",
       "    </tr>\n",
       "  </tbody>\n",
       "</table>\n",
       "</div>"
      ],
      "text/plain": [
       "    C   gamma  mean accuracy  standard deviation\n",
       "1   5   8e-05       0.839375            0.016518\n",
       "10  7  0.0001       0.838125            0.018318\n",
       "6   6  0.0001       0.837812            0.017990\n",
       "18  9  0.0001       0.837500            0.017650\n",
       "5   6   8e-05       0.837500            0.018724\n",
       "14  8  0.0001       0.836875            0.017639\n",
       "2   5  0.0001       0.836875            0.016286\n",
       "17  9   8e-05       0.836875            0.020363\n",
       "8   7   5e-05       0.836875            0.019853\n",
       "9   7   8e-05       0.836250            0.020715\n",
       "4   6   5e-05       0.835625            0.019350\n",
       "16  9   5e-05       0.835625            0.019070\n",
       "12  8   5e-05       0.835625            0.018445\n",
       "0   5   5e-05       0.835000            0.019430\n",
       "13  8   8e-05       0.834688            0.020525\n",
       "3   5  0.0005       0.826562            0.015811\n",
       "15  8  0.0005       0.826250            0.015762\n",
       "11  7  0.0005       0.826250            0.015762\n",
       "7   6  0.0005       0.826250            0.015762\n",
       "19  9  0.0005       0.826250            0.015762"
      ]
     },
     "execution_count": 19,
     "metadata": {},
     "output_type": "execute_result"
    }
   ],
   "source": [
    "# Collect results in a DataFrame\n",
    "df = pd.DataFrame.from_items([\n",
    "    ('C', grid_cv.cv_results_['param_SVC__C']),\n",
    "    ('gamma', grid_cv.cv_results_['param_SVC__gamma']),\n",
    "    ('mean accuracy', grid_cv.cv_results_['mean_test_score']),\n",
    "    ('standard deviation', grid_cv.cv_results_['std_test_score'])\n",
    "])\n",
    "df.sort_values(by='mean accuracy', ascending=False)"
   ]
  },
  {
   "cell_type": "code",
   "execution_count": 20,
   "metadata": {},
   "outputs": [
    {
     "name": "stdout",
     "output_type": "stream",
     "text": [
      "RBF SVM - top accuracy across folds: 0.8394 (std: 0.0165) with C: 5.00 and gamma:0.00008\n"
     ]
    }
   ],
   "source": [
    "# Print maximum accuracy\n",
    "idx = df['mean accuracy'].idxmax() # Index of maximum value\n",
    "df1=df['mean accuracy']\n",
    "max_RBF_accuracy = df1[idx]\n",
    "df2=df['standard deviation']\n",
    "df2_std = df2[idx]\n",
    "best_RBF_C = df.C[idx]\n",
    "df3=df['gamma']\n",
    "best_RBF_gamma = df3[idx]\n",
    "print('RBF SVM - top accuracy across folds: {:.4f} (std: {:.4f}) with C: {:.2f} and gamma:{:.5f}'\n",
    "      .format(max_RBF_accuracy, df2_std, best_RBF_C,best_RBF_gamma))"
   ]
  },
  {
   "cell_type": "markdown",
   "metadata": {},
   "source": [
    "# Third task\n",
    "Finally, evaluate and report the accuracy of your (tuned) estimators on the 1,000 points\n",
    "from the test set."
   ]
  },
  {
   "cell_type": "code",
   "execution_count": 21,
   "metadata": {},
   "outputs": [
    {
     "name": "stdout",
     "output_type": "stream",
     "text": [
      "Linear SVM accuracy (test set): 0.8020\n"
     ]
    }
   ],
   "source": [
    "# Linear SVM accuracy\n",
    "linear_svc = LinearSVC(C=best_lin_C, random_state=0)\n",
    "linear_svc.fit(X_tr, y_tr)\n",
    "linear_svc_score=linear_svc.score(X_te, y_te)\n",
    "\n",
    "print('Linear SVM accuracy (test set): {:.4f}'.format(linear_svc_score))"
   ]
  },
  {
   "cell_type": "code",
   "execution_count": 22,
   "metadata": {},
   "outputs": [
    {
     "name": "stdout",
     "output_type": "stream",
     "text": [
      "RBF SVM accuracy (test set): 0.8390\n"
     ]
    }
   ],
   "source": [
    "# RBF SVM accuracy\n",
    "RBF_svc = SVC(kernel='rbf',C=best_RBF_C, gamma=best_RBF_gamma, random_state=0)\n",
    "RBF_svc.fit(X_tr, y_tr)\n",
    "RBF_svc_score=RBF_svc.score(X_te, y_te)\n",
    "\n",
    "print('RBF SVM accuracy (test set): {:.4f}'.format(RBF_svc_score))"
   ]
  },
  {
   "cell_type": "code",
   "execution_count": null,
   "metadata": {},
   "outputs": [],
   "source": []
  },
  {
   "cell_type": "code",
   "execution_count": 23,
   "metadata": {},
   "outputs": [
    {
     "name": "stdout",
     "output_type": "stream",
     "text": [
      "           model  test accuracy\n",
      "0           k-NN          0.794\n",
      "1  decision tree          0.658\n",
      "2  random forest          0.797\n",
      "3     svm linear          0.797\n",
      "4        svm rbf          0.842\n",
      "5       logistic          0.810\n",
      "6          fc nn          0.839\n",
      "7            cnn          0.816\n"
     ]
    }
   ],
   "source": [
    "# Load data & Save Results\n",
    "Result_df = pd.read_csv('Result_df.csv')\n",
    "print(Result_df.head(9))"
   ]
  },
  {
   "cell_type": "code",
   "execution_count": 25,
   "metadata": {},
   "outputs": [
    {
     "name": "stdout",
     "output_type": "stream",
     "text": [
      "           model  test accuracy\n",
      "0           k-NN          0.794\n",
      "1  decision tree          0.658\n",
      "2  random forest          0.797\n",
      "3     svm linear          0.802\n",
      "4        svm rbf          0.839\n",
      "5       logistic          0.810\n",
      "6          fc nn          0.839\n",
      "7            cnn          0.816\n"
     ]
    }
   ],
   "source": [
    "Result_df.iloc[3,1]=linear_svc_score\n",
    "Result_df.iloc[4,1]=RBF_svc_score\n",
    "print(Result_df.head(9))\n",
    "#Write Result as Dataframe to file\n",
    "Result_df.to_csv('Result_df.csv', index=False, float_format='%.3f')"
   ]
  }
 ],
 "metadata": {
  "kernelspec": {
   "display_name": "Python 3",
   "language": "python",
   "name": "python3"
  },
  "language_info": {
   "codemirror_mode": {
    "name": "ipython",
    "version": 3
   },
   "file_extension": ".py",
   "mimetype": "text/x-python",
   "name": "python",
   "nbconvert_exporter": "python",
   "pygments_lexer": "ipython3",
   "version": "3.6.6"
  }
 },
 "nbformat": 4,
 "nbformat_minor": 2
}
