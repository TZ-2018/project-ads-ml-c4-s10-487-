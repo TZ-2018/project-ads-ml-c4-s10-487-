{
 "cells": [
  {
   "cell_type": "markdown",
   "metadata": {},
   "source": [
    "# Convolutional neural network"
   ]
  },
  {
   "cell_type": "code",
   "execution_count": 1,
   "metadata": {},
   "outputs": [
    {
     "name": "stdout",
     "output_type": "stream",
     "text": [
      "It is a dictionary with keys: ['pixels', 'overfeat', 'labels', 'names', 'allow_pickle']\n"
     ]
    },
    {
     "data": {
      "text/plain": [
       "{'pixels': array([[255, 255, 255, ..., 158, 145, 136],\n",
       "        [208, 216, 210, ...,  49,  57,  78],\n",
       "        [191, 199, 207, ...,   3,  98, 148],\n",
       "        ...,\n",
       "        [254, 254, 254, ...,  61,  56,  58],\n",
       "        [ 61,  62,  49, ...,  79,  86,  56],\n",
       "        [110, 108, 122, ..., 153, 142, 146]], dtype=uint8),\n",
       " 'overfeat': array([[ 3.7246094 , -0.38476562,  1.5878906 , ..., -1.7158203 ,\n",
       "          1.8623047 , -0.6801758 ],\n",
       "        [ 3.0859375 ,  0.36206055,  0.36206055, ..., -2.3105469 ,\n",
       "          2.9140625 , -1.5117188 ],\n",
       "        [ 4.2265625 ,  1.1328125 , -1.1308594 , ...,  1.6074219 ,\n",
       "         -1.3417969 , -2.3984375 ],\n",
       "        ...,\n",
       "        [ 2.5585938 ,  1.0693359 ,  0.28588867, ..., -1.1923828 ,\n",
       "          0.8745117 , -0.86621094],\n",
       "        [ 3.2832031 ,  0.7001953 ,  1.1855469 , ..., -1.0058594 ,\n",
       "          0.97558594,  1.2060547 ],\n",
       "        [ 3.9707031 ,  0.28198242,  0.4013672 , ..., -1.3759766 ,\n",
       "          2.6230469 , -1.2578125 ]], dtype=float32),\n",
       " 'labels': array([0, 1, 2, ..., 0, 0, 1], dtype=int64),\n",
       " 'names': array(['truck', 'car', 'airplane', 'ship'], dtype='<U8'),\n",
       " 'allow_pickle': array(False)}"
      ]
     },
     "execution_count": 1,
     "metadata": {},
     "output_type": "execute_result"
    }
   ],
   "source": [
    "import numpy as np\n",
    "import pandas as pd\n",
    "from sklearn.model_selection import train_test_split\n",
    "from sklearn.preprocessing import StandardScaler\n",
    "import tensorflow as tf\n",
    "%matplotlib inline\n",
    "import matplotlib.pyplot as plt\n",
    "from sklearn.decomposition import PCA\n",
    "import seaborn as sns\n",
    "sns.set()\n",
    "\n",
    "# Load data\n",
    "with np.load('cifar4-train.npz', allow_pickle=False) as npz_file:\n",
    "    cifar_train = dict(npz_file.items())\n",
    "print('It is a dictionary with keys:', list(cifar_train.keys()))\n",
    "cifar_train  "
   ]
  },
  {
   "cell_type": "markdown",
   "metadata": {},
   "source": [
    "# pixels"
   ]
  },
  {
   "cell_type": "code",
   "execution_count": 2,
   "metadata": {},
   "outputs": [
    {
     "name": "stdout",
     "output_type": "stream",
     "text": [
      "pixels: (5000, 3072) float32\n",
      "pixels: (5000, 3072)\n",
      "       0         1         2         3         4         5         6     \\\n",
      "0  1.000000  1.000000  1.000000  0.984314  0.984314  0.984314  0.984314   \n",
      "1  0.815686  0.847059  0.823529  0.807843  0.839216  0.780392  0.803922   \n",
      "2  0.749020  0.780392  0.811765  0.627451  0.701961  0.772549  0.596078   \n",
      "3  0.760784  0.839216  0.976471  0.760784  0.839216  0.964706  0.776471   \n",
      "4  0.117647  0.125490  0.074510  0.098039  0.094118  0.047059  0.180392   \n",
      "\n",
      "       7         8         9       ...         3062      3063      3064  \\\n",
      "0  0.984314  0.984314  0.984314    ...     0.152941  0.196078  0.223529   \n",
      "1  0.839216  0.760784  0.803922    ...     0.305882  0.203922  0.223529   \n",
      "2  0.701961  0.776471  0.666667    ...     0.568627  0.011765  0.372549   \n",
      "3  0.854902  0.972549  0.788235    ...     0.647059  0.658824  0.701961   \n",
      "4  0.172549  0.101961  0.290196    ...     0.466667  0.564706  0.509804   \n",
      "\n",
      "       3065      3066      3067      3068      3069      3070      3071  \n",
      "0  0.235294  0.313726  0.305882  0.321569  0.619608  0.568627  0.533333  \n",
      "1  0.301961  0.192157  0.219608  0.309804  0.192157  0.223529  0.305882  \n",
      "2  0.572549  0.015686  0.376471  0.572549  0.011765  0.384314  0.580392  \n",
      "3  0.635294  0.654902  0.690196  0.623529  0.654902  0.690196  0.623529  \n",
      "4  0.458824  0.568627  0.513726  0.470588  0.552941  0.498039  0.466667  \n",
      "\n",
      "[5 rows x 3072 columns]\n"
     ]
    }
   ],
   "source": [
    "# Convert pixels into floating point numbers\n",
    "pixels = cifar_train['pixels'].astype(np.float32)\n",
    "print('pixels:', pixels.shape, pixels.dtype)\n",
    "#print(pixels)\n",
    "#print()\n",
    "\n",
    "# Rescale pixel values between -0.5 and 0.5\n",
    "pixels_Rescaled = (pixels - 128) / 255\n",
    "pixels = pixels / 255\n",
    "#print('pixels:', pixels.shape, pixels.dtype)\n",
    "#print()\n",
    "#print(pixels)\n",
    "\n",
    "pixels_df=pd.DataFrame(pixels) #convert to dataframe\n",
    "print('pixels:', pixels_df.shape)\n",
    "print(pixels_df.head())"
   ]
  },
  {
   "cell_type": "markdown",
   "metadata": {},
   "source": [
    "# labels"
   ]
  },
  {
   "cell_type": "code",
   "execution_count": 4,
   "metadata": {},
   "outputs": [
    {
     "name": "stdout",
     "output_type": "stream",
     "text": [
      "labels: (5000,) int64\n",
      "[0 1 2 ... 0 0 1]\n"
     ]
    }
   ],
   "source": [
    "labels=cifar_train['labels']\n",
    "print('labels:', labels.shape, labels.dtype)\n",
    "print(labels)"
   ]
  },
  {
   "cell_type": "code",
   "execution_count": 5,
   "metadata": {},
   "outputs": [
    {
     "name": "stdout",
     "output_type": "stream",
     "text": [
      "names: (4,) <U8\n"
     ]
    }
   ],
   "source": [
    "names=cifar_train['names']\n",
    "nb_classes = 4\n",
    "print('names:', names.shape, names.dtype)"
   ]
  },
  {
   "cell_type": "code",
   "execution_count": 6,
   "metadata": {},
   "outputs": [
    {
     "name": "stdout",
     "output_type": "stream",
     "text": [
      "labels_df: (5000, 1)\n",
      "   0\n",
      "0  0\n",
      "1  1\n",
      "2  2\n",
      "3  1\n",
      "4  1\n"
     ]
    }
   ],
   "source": [
    "labels_df=pd.DataFrame(labels) #convert to dataframe\n",
    "print('labels_df:', labels_df.shape)\n",
    "print(labels_df.head())"
   ]
  },
  {
   "cell_type": "markdown",
   "metadata": {},
   "source": [
    "# split the data points into train/valid/test"
   ]
  },
  {
   "cell_type": "code",
   "execution_count": 7,
   "metadata": {},
   "outputs": [],
   "source": [
    "# Rescale input data\n",
    "scaler = StandardScaler()\n",
    "pixels_Rescaled = scaler.fit_transform(pixels_Rescaled)"
   ]
  },
  {
   "cell_type": "code",
   "execution_count": 8,
   "metadata": {},
   "outputs": [
    {
     "name": "stdout",
     "output_type": "stream",
     "text": [
      "pixels_reshaped: (5000, 32, 32, 3) float32\n"
     ]
    }
   ],
   "source": [
    "# Reshape images: 32 by 32 with 3 (RGB) color channels\n",
    "pixels_reshaped = pixels_Rescaled.reshape(-1, 32, 32, 3)\n",
    "print('pixels_reshaped:', pixels_reshaped.shape, pixels_reshaped.dtype)\n",
    "#print(pixels_reshaped)"
   ]
  },
  {
   "cell_type": "code",
   "execution_count": 9,
   "metadata": {},
   "outputs": [
    {
     "name": "stdout",
     "output_type": "stream",
     "text": [
      "Train: (4000, 32, 32, 3) (4000,)\n",
      "Test1: (1000, 32, 32, 3) (1000,)\n",
      "Train/X_tr2: (3200, 32, 32, 3) (3200,)\n",
      "Valid: (800, 32, 32, 3) (800,)\n"
     ]
    }
   ],
   "source": [
    "from sklearn.model_selection import train_test_split # Split data\n",
    "X_tr, X_te, y_tr, y_te = train_test_split(pixels_reshaped, labels ,test_size=1000, random_state=0, stratify=labels)\n",
    "\n",
    "# Create validation and test sets\n",
    "X_tr2, X_valid, y_tr2,y_valid = train_test_split(X_tr, y_tr, test_size=800, random_state=0, stratify=y_tr)\n",
    "\n",
    "print('Train:', X_tr.shape, y_tr.shape)\n",
    "print('Test1:', X_te.shape, y_te.shape)\n",
    "print('Train/X_tr2:', X_tr2.shape, y_tr2.shape)\n",
    "print('Valid:', X_valid.shape, y_valid.shape)"
   ]
  },
  {
   "cell_type": "code",
   "execution_count": 10,
   "metadata": {},
   "outputs": [],
   "source": [
    "# Batch generator\n",
    "def get_batches(X, y, batch_size):\n",
    "    # Shuffle X,y\n",
    "    shuffled_idx = np.arange(len(y)) # 1,2,...,n\n",
    "    np.random.shuffle(shuffled_idx)\n",
    "    \n",
    "    # Enumerate indexes by steps of batch_size\n",
    "    # i: 0, b, 2b, 3b, 4b, .. where b is the batch size\n",
    "    for i in range(0, len(y), batch_size):\n",
    "        # Batch indexes\n",
    "        batch_idx = shuffled_idx[i:i+batch_size]\n",
    "        yield X[batch_idx], y[batch_idx]"
   ]
  },
  {
   "cell_type": "markdown",
   "metadata": {},
   "source": [
    "## - Create and train a ConvNet\n"
   ]
  },
  {
   "cell_type": "code",
   "execution_count": 11,
   "metadata": {},
   "outputs": [
    {
     "name": "stdout",
     "output_type": "stream",
     "text": [
      "Input: (?, 32, 32, 3)\n",
      "Convolutional layer: (?, 16, 16, 64)\n",
      "Maxpool: (?, 8, 8, 64)\n",
      "Convolutional layer: (?, 8, 8, 64)\n",
      "Maxpool: (?, 4, 4, 64)\n",
      "Flatten: (?, 1024)\n",
      "Dropout: (?, 1024)\n",
      "Fully-connected layer: (?, 256)\n",
      "Output layer: (?, 10)\n"
     ]
    }
   ],
   "source": [
    "# Create new graph\n",
    "graph = tf.Graph()\n",
    "\n",
    "with graph.as_default():\n",
    "    # Placeholders\n",
    "    X = tf.placeholder(dtype=tf.float32, shape=[None, 32, 32, 3])\n",
    "    y = tf.placeholder(dtype=tf.int32, shape=[None])\n",
    "    print('Input:', X.shape)\n",
    "    \n",
    "    # Convolutional layer (64 filters, 5x5, stride: 2)\n",
    "    conv1 = tf.layers.conv2d(\n",
    "        X, 64, (5, 5), (2, 2), 'SAME', # \"same\" padding\n",
    "        activation=tf.nn.relu, # ReLU\n",
    "        kernel_initializer=tf.truncated_normal_initializer(stddev=0.01, seed=0),\n",
    "        name='conv1'\n",
    "    )\n",
    "    print('Convolutional layer:', conv1.shape)\n",
    "    \n",
    "    # Maxpool layer (2x2, stride: 2, \"same\" padding)\n",
    "    pool1 = tf.layers.max_pooling2d(conv1, (2, 2), (2, 2), 'SAME')\n",
    "    print('Maxpool:', pool1.shape)\n",
    "    \n",
    "    # Convolutional layer (64 filters, 3x3, stride: 1)\n",
    "    conv2 = tf.layers.conv2d(\n",
    "        pool1, 64, (3, 3), (1, 1), 'SAME', # \"same\" padding\n",
    "        activation=tf.nn.relu, # ReLU\n",
    "        kernel_initializer=tf.truncated_normal_initializer(stddev=0.01, seed=0),\n",
    "        name='conv2'\n",
    "    )\n",
    "    print('Convolutional layer:', conv2.shape)\n",
    "    \n",
    "    # Maxpool layer (2x2, stride: 2, \"same\" padding)\n",
    "    pool2 = tf.layers.max_pooling2d(conv2, (2, 2), (2, 2), 'SAME')\n",
    "    print('Maxpool:', pool2.shape)\n",
    "    \n",
    "    # Flatten output\n",
    "    flat_output = tf.contrib.layers.flatten(pool2)\n",
    "    print('Flatten:', flat_output.shape)\n",
    "    \n",
    "    # Dropout\n",
    "    training = tf.placeholder(dtype=tf.bool)\n",
    "    flat_output = tf.layers.dropout(flat_output, rate=0.5, seed=0, training=training)\n",
    "    print('Dropout:', flat_output.shape)\n",
    "    \n",
    "    # Fully connected layer\n",
    "    fc1 = tf.layers.dense(\n",
    "        flat_output, 256, # 256 hidden units\n",
    "        activation=tf.nn.relu, # ReLU\n",
    "        kernel_initializer=tf.variance_scaling_initializer(scale=2, seed=0),\n",
    "        bias_initializer=tf.zeros_initializer()\n",
    "    )\n",
    "    print('Fully-connected layer:', fc1.shape)\n",
    "    \n",
    "    # Output layer\n",
    "    logits = tf.layers.dense(\n",
    "        fc1, 10, # One output unit per category\n",
    "        activation=None, # No activation function\n",
    "        kernel_initializer=tf.variance_scaling_initializer(scale=1, seed=0),\n",
    "        bias_initializer=tf.zeros_initializer()\n",
    "    )\n",
    "    print('Output layer:', logits.shape)\n",
    "    \n",
    "    # Kernel of the 1st conv. layer\n",
    "    with tf.variable_scope('conv1', reuse=True):\n",
    "        conv_kernels = tf.get_variable('kernel')\n",
    "    \n",
    "    # Mean cross-entropy\n",
    "    mean_ce = tf.reduce_mean(\n",
    "        tf.nn.sparse_softmax_cross_entropy_with_logits(\n",
    "            labels=y, logits=logits))\n",
    "    \n",
    "    # Adam optimizer\n",
    "    lr = tf.placeholder(dtype=tf.float32)\n",
    "    gd = tf.train.AdamOptimizer(learning_rate=lr)\n",
    "\n",
    "    # Minimize cross-entropy\n",
    "    train_op = gd.minimize(mean_ce)\n",
    "    \n",
    "    # L2 regularization\n",
    "    #L2 term\n",
    "    l2_term = tf.nn.l2_loss(conv_kernels)\n",
    "    # Regularization strength\n",
    "    alpha = tf.placeholder(dtype=tf.float32)\n",
    "    # Loss function\n",
    "    loss = mean_ce + alpha * l2_term\n",
    "    # Training operation\n",
    "    train_op = gd.minimize(loss)    \n",
    "    \n",
    "    # Compute predictions and accuracy\n",
    "    predictions = tf.argmax(logits, axis=1, output_type=tf.int32)\n",
    "    is_correct = tf.equal(y, predictions)\n",
    "    accuracy = tf.reduce_mean(tf.cast(is_correct, dtype=tf.float32))"
   ]
  },
  {
   "cell_type": "code",
   "execution_count": 12,
   "metadata": {
    "scrolled": true
   },
   "outputs": [
    {
     "name": "stdout",
     "output_type": "stream",
     "text": [
      "Epoch 1 - valid: 0.509 batch_acc: 0.403 (mean)\n",
      "Epoch 2 - valid: 0.561 batch_acc: 0.519 (mean)\n",
      "Epoch 3 - valid: 0.605 batch_acc: 0.555 (mean)\n",
      "Epoch 4 - valid: 0.604 batch_acc: 0.587 (mean)\n",
      "Epoch 5 - valid: 0.642 batch_acc: 0.619 (mean)\n",
      "Epoch 6 - valid: 0.668 batch_acc: 0.647 (mean)\n",
      "Epoch 7 - valid: 0.660 batch_acc: 0.686 (mean)\n",
      "Epoch 8 - valid: 0.692 batch_acc: 0.681 (mean)\n",
      "Epoch 9 - valid: 0.688 batch_acc: 0.714 (mean)\n",
      "Epoch 10 - valid: 0.716 batch_acc: 0.734 (mean)\n",
      "Epoch 11 - valid: 0.710 batch_acc: 0.743 (mean)\n",
      "Epoch 12 - valid: 0.759 batch_acc: 0.751 (mean)\n",
      "Epoch 13 - valid: 0.714 batch_acc: 0.752 (mean)\n",
      "Epoch 14 - valid: 0.726 batch_acc: 0.763 (mean)\n",
      "Epoch 15 - valid: 0.736 batch_acc: 0.778 (mean)\n",
      "Epoch 16 - valid: 0.735 batch_acc: 0.786 (mean)\n",
      "Epoch 17 - valid: 0.755 batch_acc: 0.791 (mean)\n",
      "Epoch 18 - valid: 0.750 batch_acc: 0.814 (mean)\n",
      "Epoch 19 - valid: 0.777 batch_acc: 0.824 (mean)\n",
      "Epoch 20 - valid: 0.761 batch_acc: 0.822 (mean)\n",
      "Epoch 21 - valid: 0.752 batch_acc: 0.830 (mean)\n",
      "Epoch 22 - valid: 0.765 batch_acc: 0.832 (mean)\n",
      "Epoch 23 - valid: 0.785 batch_acc: 0.845 (mean)\n",
      "Epoch 24 - valid: 0.785 batch_acc: 0.855 (mean)\n",
      "Epoch 25 - valid: 0.781 batch_acc: 0.849 (mean)\n",
      "Epoch 26 - valid: 0.777 batch_acc: 0.857 (mean)\n",
      "Epoch 27 - valid: 0.774 batch_acc: 0.866 (mean)\n",
      "Epoch 28 - valid: 0.777 batch_acc: 0.868 (mean)\n",
      "Epoch 29 - valid: 0.781 batch_acc: 0.863 (mean)\n",
      "Epoch 30 - valid: 0.765 batch_acc: 0.873 (mean)\n",
      "Epoch 31 - valid: 0.784 batch_acc: 0.878 (mean)\n",
      "Epoch 32 - valid: 0.767 batch_acc: 0.882 (mean)\n",
      "Epoch 33 - valid: 0.785 batch_acc: 0.889 (mean)\n",
      "Epoch 34 - valid: 0.777 batch_acc: 0.884 (mean)\n",
      "Epoch 35 - valid: 0.776 batch_acc: 0.901 (mean)\n",
      "Epoch 36 - valid: 0.803 batch_acc: 0.895 (mean)\n",
      "Epoch 37 - valid: 0.771 batch_acc: 0.906 (mean)\n",
      "Epoch 38 - valid: 0.796 batch_acc: 0.913 (mean)\n",
      "Epoch 39 - valid: 0.799 batch_acc: 0.908 (mean)\n",
      "Epoch 40 - valid: 0.789 batch_acc: 0.913 (mean)\n",
      "Epoch 41 - valid: 0.799 batch_acc: 0.918 (mean)\n",
      "Epoch 42 - valid: 0.777 batch_acc: 0.917 (mean)\n",
      "Epoch 43 - valid: 0.790 batch_acc: 0.926 (mean)\n",
      "Epoch 44 - valid: 0.781 batch_acc: 0.931 (mean)\n",
      "Epoch 45 - valid: 0.794 batch_acc: 0.921 (mean)\n",
      "Epoch 46 - valid: 0.805 batch_acc: 0.931 (mean)\n",
      "Epoch 47 - valid: 0.800 batch_acc: 0.938 (mean)\n",
      "Epoch 48 - valid: 0.791 batch_acc: 0.938 (mean)\n",
      "Epoch 49 - valid: 0.810 batch_acc: 0.930 (mean)\n",
      "Epoch 50 - valid: 0.796 batch_acc: 0.934 (mean)\n",
      "Test accuracy: 0.802\n"
     ]
    }
   ],
   "source": [
    "# Validation accuracy\n",
    "valid_acc_values = []\n",
    "\n",
    "with tf.Session(graph=graph) as sess:\n",
    "    # Initialize variables\n",
    "    sess.run(tf.global_variables_initializer())\n",
    "    \n",
    "    # Set seed\n",
    "    np.random.seed(0)\n",
    "    \n",
    "    # Train several epochs\n",
    "    for epoch in range(50):\n",
    "        # Accuracy values (train) after each batch\n",
    "        batch_acc = []\n",
    "        \n",
    "        for X_batch, y_batch in get_batches(X_tr2, y_tr2, 64):\n",
    "            # Run training and evaluate accuracy\n",
    "            _, acc_value = sess.run([train_op, accuracy], feed_dict={\n",
    "                X: X_batch,\n",
    "                y: y_batch,\n",
    "                lr: 0.001, # Learning rate\n",
    "                training: True, # Apply dropout\n",
    "                alpha: 0.1 # Regularization strength\n",
    "            })\n",
    "            \n",
    "            # Save accuracy (current batch)\n",
    "            batch_acc.append(acc_value)\n",
    "\n",
    "        # Evaluate validation accuracy\n",
    "        valid_acc = sess.run(accuracy, feed_dict={\n",
    "            X: X_valid,\n",
    "            y: y_valid,\n",
    "            training: False\n",
    "        })\n",
    "        valid_acc_values.append(valid_acc)\n",
    "        \n",
    "        # Print progress\n",
    "        print('Epoch {} - valid: {:.3f} batch_acc: {:.3f} (mean)'.format(\n",
    "            epoch+1, valid_acc, np.mean(batch_acc)\n",
    "        ))\n",
    "        \n",
    "    # Get 1st conv. layer kernels\n",
    "    kernels = conv_kernels.eval()\n",
    "    \n",
    "    # Evaluate test accuracy\n",
    "    test_acc = sess.run(accuracy, feed_dict={\n",
    "        X: X_te,\n",
    "        y: y_te,\n",
    "            training: False\n",
    "    })\n",
    "    print('Test accuracy: {:.3f}'.format(test_acc))"
   ]
  },
  {
   "cell_type": "code",
   "execution_count": 13,
   "metadata": {
    "scrolled": true
   },
   "outputs": [
    {
     "data": {
      "image/png": "[encoded data removed]",
      "text/plain": [
       "<Figure size 432x288 with 1 Axes>"
      ]
     },
     "metadata": {},
     "output_type": "display_data"
    }
   ],
   "source": [
    "# Plot accuracy values\n",
    "plt.plot(valid_acc_values)\n",
    "plt.title('Validation accuracy: {:.3f} (mean last 10)'.format(\n",
    "    np.mean(valid_acc_values[-10:]) # last values\n",
    "))\n",
    "plt.xlabel('epoch')\n",
    "plt.ylabel('accuracy')\n",
    "plt.show()"
   ]
  },
  {
   "cell_type": "code",
   "execution_count": 14,
   "metadata": {},
   "outputs": [
    {
     "name": "stdout",
     "output_type": "stream",
     "text": [
      "Combination 1/4\n",
      "Last Epoch 50 - valid: 0.795 train: 0.967 (mean)\n",
      "Test accuracy: 0.815\n",
      "Combination 2/4\n",
      "Last Epoch 50 - valid: 0.809 train: 0.965 (mean)\n",
      "Test accuracy: 0.816\n",
      "Combination 3/4\n",
      "Last Epoch 50 - valid: 0.796 train: 0.962 (mean)\n",
      "Test accuracy: 0.815\n",
      "Combination 4/4\n",
      "Last Epoch 50 - valid: 0.801 train: 0.964 (mean)\n",
      "Test accuracy: 0.799\n",
      "done\n"
     ]
    }
   ],
   "source": [
    "# Grid search\n",
    "# Parameter tuned\n",
    "from sklearn.model_selection import ParameterGrid\n",
    "grid = ParameterGrid({\n",
    "    'alpha': [0.00010,0.00030,0.00060,0.00090],  # Regularization strength\n",
    "    'lr': [0.0010]              # Learning rate\n",
    "})\n",
    "\n",
    "test_scores = []\n",
    "\n",
    "# loop ----\n",
    "for i, params_dict  in enumerate(grid, 1):\n",
    "    # Print progress\n",
    "    print('Combination {}/{}'.format(\n",
    "        i, len(grid) # Total number of combinations\n",
    "    ))    \n",
    "    \n",
    "    # Validation accuracy\n",
    "    valid_acc_values = []\n",
    "\n",
    "    with tf.Session(graph=graph) as sess:\n",
    "        # Initialize variables\n",
    "        sess.run(tf.global_variables_initializer())\n",
    "\n",
    "        # Set seed\n",
    "        np.random.seed(0)\n",
    "\n",
    "        # Train several epochs\n",
    "        for epoch in range(50):\n",
    "            # Accuracy values (train) after each batch\n",
    "            batch_acc = []\n",
    "\n",
    "            # Get batches of data\n",
    "            for X_batch, y_batch in get_batches(X_tr2, y_tr2, 64):\n",
    "                # Run training and evaluate accuracy\n",
    "                _, acc_value = sess.run([train_op, accuracy], feed_dict={\n",
    "                    X: X_batch,\n",
    "                    y: y_batch,\n",
    "                    lr: params_dict['lr'], # Learning rate\n",
    "                    training: True, # Apply dropout\n",
    "                    alpha: params_dict['alpha'] # Regularization strength\n",
    "                })\n",
    "\n",
    "                # Save accuracy (current batch)\n",
    "                batch_acc.append(acc_value)\n",
    "\n",
    "            # Evaluate validation accuracy\n",
    "            valid_acc = sess.run(accuracy, feed_dict={\n",
    "                X: X_valid,\n",
    "                y: y_valid,\n",
    "                training: False # Do not apply dropout\n",
    "                })\n",
    "            valid_acc_values.append(valid_acc)\n",
    "\n",
    "            # Print progress\n",
    "            #print('Epoch {} - valid: {:.3f} train: {:.3f} (mean)'.format(\n",
    "            #    epoch+1, valid_acc, np.mean(batch_acc)))\n",
    "\n",
    "\n",
    "        # Evaluate test accuracy\n",
    "        test_acc = sess.run(accuracy, feed_dict={\n",
    "            X: X_te,\n",
    "            y: y_te,\n",
    "            training: False # Do not apply dropout        \n",
    "        })\n",
    "        print('Last Epoch {} - valid: {:.3f} train: {:.3f} (mean)'.format(\n",
    "            epoch+1, valid_acc, np.mean(batch_acc)\n",
    "        ))\n",
    "        print('Test accuracy: {:.3f}'.format(test_acc))\n",
    "   \n",
    "    # Get train/test scores   \n",
    "    params_dict['Valid_accuracy'] = valid_acc\n",
    "    params_dict['Test_accuracy'] = test_acc  \n",
    "\n",
    "     # Save result\n",
    "    test_scores.append(params_dict)\n",
    "#Loop End---\n",
    "print('done')"
   ]
  },
  {
   "cell_type": "code",
   "execution_count": 15,
   "metadata": {},
   "outputs": [
    {
     "data": {
      "image/png": "[encoded data removed]",
      "text/plain": [
       "<Figure size 432x288 with 1 Axes>"
      ]
     },
     "metadata": {},
     "output_type": "display_data"
    }
   ],
   "source": [
    "# Plot accuracy values of last run\n",
    "plt.plot(valid_acc_values)\n",
    "#plt.plot(batch_acc)\n",
    "plt.title('Validation accuracy: {:.3f} (mean last 20)'.format(\n",
    "    np.mean(valid_acc_values[-20:])\n",
    "))\n",
    "plt.xlabel('epoch')\n",
    "plt.ylabel('accuracy')\n",
    "plt.show()"
   ]
  },
  {
   "cell_type": "code",
   "execution_count": 16,
   "metadata": {},
   "outputs": [
    {
     "data": {
      "text/html": [
       "<div>\n",
       "<style scoped>\n",
       "    .dataframe tbody tr th:only-of-type {\n",
       "        vertical-align: middle;\n",
       "    }\n",
       "\n",
       "    .dataframe tbody tr th {\n",
       "        vertical-align: top;\n",
       "    }\n",
       "\n",
       "    .dataframe thead th {\n",
       "        text-align: right;\n",
       "    }\n",
       "</style>\n",
       "<table border=\"1\" class=\"dataframe\">\n",
       "  <thead>\n",
       "    <tr style=\"text-align: right;\">\n",
       "      <th></th>\n",
       "      <th>Test_accuracy</th>\n",
       "      <th>Valid_accuracy</th>\n",
       "      <th>alpha</th>\n",
       "      <th>lr</th>\n",
       "    </tr>\n",
       "  </thead>\n",
       "  <tbody>\n",
       "    <tr>\n",
       "      <th>1</th>\n",
       "      <td>0.816</td>\n",
       "      <td>0.80875</td>\n",
       "      <td>0.0003</td>\n",
       "      <td>0.001</td>\n",
       "    </tr>\n",
       "    <tr>\n",
       "      <th>0</th>\n",
       "      <td>0.815</td>\n",
       "      <td>0.79500</td>\n",
       "      <td>0.0001</td>\n",
       "      <td>0.001</td>\n",
       "    </tr>\n",
       "    <tr>\n",
       "      <th>2</th>\n",
       "      <td>0.815</td>\n",
       "      <td>0.79625</td>\n",
       "      <td>0.0006</td>\n",
       "      <td>0.001</td>\n",
       "    </tr>\n",
       "    <tr>\n",
       "      <th>3</th>\n",
       "      <td>0.799</td>\n",
       "      <td>0.80125</td>\n",
       "      <td>0.0009</td>\n",
       "      <td>0.001</td>\n",
       "    </tr>\n",
       "  </tbody>\n",
       "</table>\n",
       "</div>"
      ],
      "text/plain": [
       "   Test_accuracy  Valid_accuracy   alpha     lr\n",
       "1          0.816         0.80875  0.0003  0.001\n",
       "0          0.815         0.79500  0.0001  0.001\n",
       "2          0.815         0.79625  0.0006  0.001\n",
       "3          0.799         0.80125  0.0009  0.001"
      ]
     },
     "execution_count": 16,
     "metadata": {},
     "output_type": "execute_result"
    }
   ],
   "source": [
    "# Create DataFrame with scores\n",
    "test_scores_df=pd.DataFrame(test_scores)\n",
    "df1=test_scores_df.sort_values(by='Test_accuracy', ascending=False)\n",
    "df1.head(9)"
   ]
  },
  {
   "cell_type": "code",
   "execution_count": 17,
   "metadata": {},
   "outputs": [
    {
     "name": "stdout",
     "output_type": "stream",
     "text": [
      "Convolutional network accuracy (test set):  0.816\n"
     ]
    }
   ],
   "source": [
    "# Print maximum accuracy\n",
    "idx = test_scores_df.Test_accuracy.idxmax() # Index of maximum value\n",
    "max_accuracy = test_scores_df.Test_accuracy[idx]\n",
    "print('Convolutional network accuracy (test set):  {:.3f}'\n",
    "      .format(max_accuracy))"
   ]
  },
  {
   "cell_type": "markdown",
   "metadata": {},
   "source": [
    "##  - Visualize kernels\n"
   ]
  },
  {
   "cell_type": "code",
   "execution_count": 18,
   "metadata": {},
   "outputs": [
    {
     "data": {
      "image/png": "[encoded data removed]",
      "text/plain": [
       "<Figure size 576x576 with 64 Axes>"
      ]
     },
     "metadata": {},
     "output_type": "display_data"
    }
   ],
   "source": [
    "# Create a grid of subplots\n",
    "fig, axes = plt.subplots(nrows=8, ncols=8, figsize=(8, 8))\n",
    "\n",
    "# Remove gaps between suplots\n",
    "plt.subplots_adjust(wspace=0, hspace=0)\n",
    "\n",
    "# Plot the 64 kernels from the first convolutional layer\n",
    "for i, axis in enumerate(axes.flatten()):\n",
    "    # Get i-th kernel (shape: 5x5x3)\n",
    "    kernel = kernels[:, :, :, i].copy()\n",
    "    \n",
    "    # Rescale values between 0 and 1\n",
    "    kernel -= kernel.min() # Rescale between 0 and max\n",
    "    kernel /= kernel.max() # Rescale between 0 and 1\n",
    "    \n",
    "    # Plot kernel with imshow()\n",
    "    axis.imshow(kernel)\n",
    "    axis.get_xaxis().set_visible(False) # disable x-axis\n",
    "    axis.get_yaxis().set_visible(False) # disable y-axis\n",
    "    \n",
    "plt.show()"
   ]
  },
  {
   "cell_type": "markdown",
   "metadata": {},
   "source": [
    "# Save Result"
   ]
  },
  {
   "cell_type": "code",
   "execution_count": 19,
   "metadata": {},
   "outputs": [
    {
     "name": "stdout",
     "output_type": "stream",
     "text": [
      "           model  test accuracy\n",
      "0           k-NN          0.794\n",
      "1  decision tree          0.658\n",
      "2  random forest          0.797\n",
      "3     svm linear          0.802\n",
      "4        svm rbf          0.839\n",
      "5       logistic          0.833\n",
      "6          fc nn          0.840\n",
      "7            cnn          0.816\n"
     ]
    }
   ],
   "source": [
    "# Load data\n",
    "import pandas as pd\n",
    "Result_df = pd.read_csv('Result_df.csv')\n",
    "print(Result_df.head(9))"
   ]
  },
  {
   "cell_type": "code",
   "execution_count": 20,
   "metadata": {},
   "outputs": [
    {
     "name": "stdout",
     "output_type": "stream",
     "text": [
      "           model  test accuracy\n",
      "0           k-NN          0.794\n",
      "1  decision tree          0.658\n",
      "2  random forest          0.797\n",
      "3     svm linear          0.802\n",
      "4        svm rbf          0.839\n",
      "5       logistic          0.833\n",
      "6          fc nn          0.840\n",
      "7            cnn          0.816\n"
     ]
    }
   ],
   "source": [
    "Result_df.iloc[7,1]=max_accuracy\n",
    "print(Result_df.head(9))"
   ]
  },
  {
   "cell_type": "code",
   "execution_count": 21,
   "metadata": {},
   "outputs": [],
   "source": [
    "#Write Result as Dataframe to file\n",
    "Result_df.to_csv('Result_df.csv', index=False, float_format='%.3f')"
   ]
  }
 ],
 "metadata": {
  "kernelspec": {
   "display_name": "Python 3",
   "language": "python",
   "name": "python3"
  },
  "language_info": {
   "codemirror_mode": {
    "name": "ipython",
    "version": 3
   },
   "file_extension": ".py",
   "mimetype": "text/x-python",
   "name": "python",
   "nbconvert_exporter": "python",
   "pygments_lexer": "ipython3",
   "version": "3.6.6"
  }
 },
 "nbformat": 4,
 "nbformat_minor": 2
}
