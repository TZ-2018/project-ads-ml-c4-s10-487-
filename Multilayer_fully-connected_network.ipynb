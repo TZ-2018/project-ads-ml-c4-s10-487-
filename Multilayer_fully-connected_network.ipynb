{
 "cells": [
  {
   "cell_type": "markdown",
   "metadata": {},
   "source": [
    "# Multilayer fully-connected network"
   ]
  },
  {
   "cell_type": "code",
   "execution_count": 1,
   "metadata": {},
   "outputs": [
    {
     "name": "stdout",
     "output_type": "stream",
     "text": [
      "It is a dictionary with keys: ['pixels', 'overfeat', 'labels', 'names', 'allow_pickle']\n"
     ]
    }
   ],
   "source": [
    "import numpy as np\n",
    "import pandas as pd\n",
    "from sklearn.model_selection import train_test_split\n",
    "from sklearn.preprocessing import StandardScaler\n",
    "import tensorflow as tf\n",
    "%matplotlib inline\n",
    "import matplotlib.pyplot as plt\n",
    "from sklearn.decomposition import PCA\n",
    "import seaborn as sns\n",
    "sns.set()\n",
    "\n",
    "# Load data\n",
    "with np.load('cifar4-train.npz', allow_pickle=False) as npz_file:\n",
    "    cifar_train = dict(npz_file.items())\n",
    "print('It is a dictionary with keys:', list(cifar_train.keys()))\n",
    "#cifar_train  "
   ]
  },
  {
   "cell_type": "code",
   "execution_count": 2,
   "metadata": {},
   "outputs": [
    {
     "name": "stdout",
     "output_type": "stream",
     "text": [
      "X: (5000, 4096) float32\n",
      "y: (5000,) int64\n",
      "names: ['truck' 'car' 'airplane' 'ship']\n"
     ]
    }
   ],
   "source": [
    "# Create X/y arrays\n",
    "X = cifar_train['overfeat']\n",
    "y = cifar_train['labels']\n",
    "names = cifar_train['names']\n",
    "#pixels = cifar_train['pixels'].astype(np.float32)\n",
    "#pixels = pixels / 255\n",
    "\n",
    "print('X:', X.shape, X.dtype)\n",
    "print('y:', y.shape, y.dtype)\n",
    "#print('pixels:', pixels.shape, pixels.dtype)\n",
    "print('names:', names)"
   ]
  },
  {
   "cell_type": "markdown",
   "metadata": {},
   "source": [
    "# first task: \n",
    "Input layer with the 4,096 OverFeat features."
   ]
  },
  {
   "cell_type": "code",
   "execution_count": 3,
   "metadata": {},
   "outputs": [
    {
     "name": "stdout",
     "output_type": "stream",
     "text": [
      "Train set: (4000, 4096) (4000,)\n",
      "Test set: (1000, 4096) (1000,)\n"
     ]
    }
   ],
   "source": [
    "from sklearn.model_selection import train_test_split\n",
    "\n",
    "# Convert the type of the input matrix to float\n",
    "X = X.astype(np.float)\n",
    "\n",
    "# Split data into train/test sets\n",
    "X_tr, X_te, y_tr, y_te = train_test_split(\n",
    "    X, y, train_size=4000, test_size=1000, random_state=0, stratify=y)\n",
    "print('Train set:', X_tr.shape, y_tr.shape)\n",
    "print('Test set:', X_te.shape, y_te.shape)"
   ]
  },
  {
   "cell_type": "code",
   "execution_count": 4,
   "metadata": {},
   "outputs": [
    {
     "name": "stdout",
     "output_type": "stream",
     "text": [
      "Train set: (3200, 4096) (3200,)\n",
      "Valid set: (800, 4096) (800,)\n"
     ]
    }
   ],
   "source": [
    "# Split data into train/validation sets\n",
    "X_tr2, X_valid2, y_tr2, y_valid2 = train_test_split(\n",
    "    X_tr, y_tr, train_size=3200, test_size=800, random_state=0, stratify=y_tr)\n",
    "print('Train set:', X_tr2.shape, y_tr2.shape)\n",
    "print('Valid set:', X_valid2.shape, y_valid2.shape)"
   ]
  },
  {
   "cell_type": "code",
   "execution_count": 5,
   "metadata": {},
   "outputs": [],
   "source": [
    "# Rescale input data\n",
    "scaler = StandardScaler()\n",
    "X_tr2 = scaler.fit_transform(X_tr2)\n",
    "X_valid2 = scaler.transform(X_valid2)\n",
    "X_te = scaler.transform(X_te)"
   ]
  },
  {
   "cell_type": "code",
   "execution_count": 6,
   "metadata": {},
   "outputs": [],
   "source": [
    "# Batch generator\n",
    "def get_batches(X, y, batch_size):\n",
    "    # Shuffle X,y\n",
    "    shuffled_idx = np.arange(len(y)) # 1,2,...,n\n",
    "    np.random.shuffle(shuffled_idx)\n",
    "    \n",
    "    # Enumerate indexes by steps of batch_size\n",
    "    # i: 0, b, 2b, 3b, 4b, .. where b is the batch size\n",
    "    for i in range(0, len(y), batch_size):\n",
    "        # Batch indexes\n",
    "        batch_idx = shuffled_idx[i:i+batch_size]\n",
    "        yield X[batch_idx], y[batch_idx]"
   ]
  },
  {
   "cell_type": "markdown",
   "metadata": {},
   "source": [
    "##  Create and train a multilayer network"
   ]
  },
  {
   "cell_type": "code",
   "execution_count": 7,
   "metadata": {},
   "outputs": [],
   "source": [
    "# Create new graph\n",
    "graph = tf.Graph()\n",
    "\n",
    "with graph.as_default():\n",
    "    # Create placeholders\n",
    "    X = tf.placeholder(dtype=tf.float32, shape=[None, 4096]) #Input layer 4096 OverFeat features \n",
    "    y = tf.placeholder(dtype=tf.int32, shape=[None])\n",
    "    \n",
    "    # Hidden layer with 64 units & ReLU\n",
    "    hidden = tf.layers.dense(\n",
    "        X, 64, activation=tf.nn.relu, # 64 units & ReLU\n",
    "        kernel_initializer=tf.variance_scaling_initializer(scale=2, seed=0),\n",
    "        bias_initializer=tf.zeros_initializer(),\n",
    "        name='hidden'\n",
    "    )\n",
    "    \n",
    "    # Apply dropout\n",
    "    training = tf.placeholder(dtype=tf.bool)\n",
    "    hidden = tf.layers.dropout(\n",
    "        hidden, rate=0.5, seed=0, training=training)\n",
    "        #hidden, rate=0.5, seed=0, training=False) Variant tried but not better \n",
    "        #hidden, rate=0.5, seed=0, training=training)\n",
    "          \n",
    "    # Output layer\n",
    "    logits = tf.layers.dense(\n",
    "        hidden, 4, activation=None, # Output 4 units, No activation function\n",
    "        kernel_initializer=tf.variance_scaling_initializer(scale=1, seed=0),\n",
    "        bias_initializer=tf.zeros_initializer(),\n",
    "        name='output'\n",
    "    )\n",
    "    \n",
    "    # Get weights of the first hidden layer\n",
    "    with tf.variable_scope('hidden', reuse=True):\n",
    "        W1 = tf.get_variable('kernel')\n",
    "        \n",
    "    # Loss fuction: mean cross-entropy\n",
    "    mean_ce = tf.reduce_mean(\n",
    "        tf.nn.sparse_softmax_cross_entropy_with_logits(\n",
    "            labels=y, logits=logits))     \n",
    "    \n",
    "    # Gradient descent\n",
    "    lr = tf.placeholder(dtype=tf.float32)\n",
    "    gd = tf.train.GradientDescentOptimizer(learning_rate=lr)\n",
    "\n",
    "    # Minimize cross-entropy\n",
    "    train_op = gd.minimize(mean_ce)\n",
    "    \n",
    "    # L2 regularization\n",
    "    #L2 term\n",
    "    l2_term = tf.nn.l2_loss(W1)\n",
    "    # Regularization strength\n",
    "    alpha = tf.placeholder(dtype=tf.float32)\n",
    "    # Loss function\n",
    "    loss = mean_ce + alpha * l2_term\n",
    "    # Training operation\n",
    "    train_op = gd.minimize(loss)\n",
    "    \n",
    "    # Compute predictions and accuracy\n",
    "    predictions = tf.argmax(logits, axis=1, output_type=tf.int32)\n",
    "    is_correct = tf.equal(y, predictions)\n",
    "    accuracy = tf.reduce_mean(tf.cast(is_correct, dtype=tf.float32))"
   ]
  },
  {
   "cell_type": "code",
   "execution_count": 8,
   "metadata": {},
   "outputs": [
    {
     "name": "stdout",
     "output_type": "stream",
     "text": [
      "Last Epoch 50 - valid: 0.856 train: 0.927 (mean)\n",
      "Test accuracy: 0.830\n"
     ]
    },
    {
     "data": {
      "image/png": "[encoded data removed]",
      "text/plain": [
       "<Figure size 432x288 with 1 Axes>"
      ]
     },
     "metadata": {},
     "output_type": "display_data"
    }
   ],
   "source": [
    "# Validation accuracy\n",
    "valid_acc_values = []\n",
    "\n",
    "with tf.Session(graph=graph) as sess:\n",
    "    # Initialize variables\n",
    "    sess.run(tf.global_variables_initializer())\n",
    "    \n",
    "    # Set seed\n",
    "    np.random.seed(0)\n",
    "    \n",
    "    # Train several epochs\n",
    "    for epoch in range(50):\n",
    "        # Accuracy values (train) after each batch\n",
    "        batch_acc = []\n",
    "        \n",
    "        # Get batches of data\n",
    "        for X_batch, y_batch in get_batches(X_tr2, y_tr2, 64):\n",
    "            # Run training and evaluate accuracy\n",
    "            _, acc_value = sess.run([train_op, accuracy], feed_dict={\n",
    "                X: X_batch,\n",
    "                y: y_batch,\n",
    "                lr: 0.01, # Learning rate\n",
    "                training: True, # Apply dropout\n",
    "                alpha: 0.1 # Regularization strength\n",
    "            })\n",
    "            \n",
    "            # Save accuracy (current batch)\n",
    "            batch_acc.append(acc_value)\n",
    "\n",
    "        # Evaluate validation accuracy\n",
    "        valid_acc = sess.run(accuracy, feed_dict={\n",
    "            X: X_valid2,\n",
    "            y: y_valid2,\n",
    "            training: False # Do not apply dropout\n",
    "        })\n",
    "        valid_acc_values.append(valid_acc)\n",
    "        \n",
    "        # Print progress\n",
    "        #print('Epoch {} - valid: {:.3f} train: {:.3f} (mean)'.format(\n",
    "        #    epoch+1, valid_acc, np.mean(batch_acc)))\n",
    " \n",
    "\n",
    "    # Evaluate test accuracy\n",
    "    test_acc = sess.run(accuracy, feed_dict={\n",
    "        X: X_te,\n",
    "        y: y_te,\n",
    "        training: False # Do not apply dropout        \n",
    "    })\n",
    "    print('Last Epoch {} - valid: {:.3f} train: {:.3f} (mean)'.format(\n",
    "            epoch+1, valid_acc, np.mean(batch_acc)\n",
    "        ))\n",
    "    print('Test accuracy: {:.3f}'.format(test_acc))\n",
    "        \n",
    "    # Weights of the hidden layer\n",
    "    weights_hidden = W1.eval()\n",
    "\n",
    "# Plot accuracy values\n",
    "plt.plot(valid_acc_values)\n",
    "#plt.plot(batch_acc)\n",
    "plt.title('Validation accuracy: {:.3f} (mean last 20)'.format(\n",
    "    np.mean(valid_acc_values[-20:])\n",
    "))\n",
    "plt.xlabel('epoch')\n",
    "plt.ylabel('accuracy')\n",
    "plt.show()"
   ]
  },
  {
   "cell_type": "code",
   "execution_count": 9,
   "metadata": {},
   "outputs": [
    {
     "name": "stdout",
     "output_type": "stream",
     "text": [
      "Combination 1/18\n",
      "Last Epoch 50 - valid: 0.842 train: 0.971 (mean)\n",
      "Test accuracy: 0.836\n",
      "Combination 2/18\n",
      "Last Epoch 50 - valid: 0.840 train: 0.974 (mean)\n",
      "Test accuracy: 0.836\n",
      "Combination 3/18\n",
      "Last Epoch 50 - valid: 0.836 train: 0.967 (mean)\n",
      "Test accuracy: 0.840\n",
      "Combination 4/18\n",
      "Last Epoch 50 - valid: 0.839 train: 0.971 (mean)\n",
      "Test accuracy: 0.826\n",
      "Combination 5/18\n",
      "Last Epoch 50 - valid: 0.837 train: 0.971 (mean)\n",
      "Test accuracy: 0.835\n",
      "Combination 6/18\n",
      "Last Epoch 50 - valid: 0.834 train: 0.973 (mean)\n",
      "Test accuracy: 0.820\n",
      "Combination 7/18\n",
      "Last Epoch 50 - valid: 0.850 train: 0.969 (mean)\n",
      "Test accuracy: 0.833\n",
      "Combination 8/18\n",
      "Last Epoch 50 - valid: 0.837 train: 0.968 (mean)\n",
      "Test accuracy: 0.832\n",
      "Combination 9/18\n",
      "Last Epoch 50 - valid: 0.836 train: 0.962 (mean)\n",
      "Test accuracy: 0.836\n",
      "Combination 10/18\n",
      "Last Epoch 50 - valid: 0.844 train: 0.973 (mean)\n",
      "Test accuracy: 0.830\n",
      "Combination 11/18\n",
      "Last Epoch 50 - valid: 0.840 train: 0.970 (mean)\n",
      "Test accuracy: 0.823\n",
      "Combination 12/18\n",
      "Last Epoch 50 - valid: 0.839 train: 0.967 (mean)\n",
      "Test accuracy: 0.836\n",
      "Combination 13/18\n",
      "Last Epoch 50 - valid: 0.842 train: 0.970 (mean)\n",
      "Test accuracy: 0.838\n",
      "Combination 14/18\n",
      "Last Epoch 50 - valid: 0.839 train: 0.969 (mean)\n",
      "Test accuracy: 0.829\n",
      "Combination 15/18\n",
      "Last Epoch 50 - valid: 0.836 train: 0.970 (mean)\n",
      "Test accuracy: 0.829\n",
      "Combination 16/18\n",
      "Last Epoch 50 - valid: 0.840 train: 0.976 (mean)\n",
      "Test accuracy: 0.829\n",
      "Combination 17/18\n",
      "Last Epoch 50 - valid: 0.840 train: 0.975 (mean)\n",
      "Test accuracy: 0.835\n",
      "Combination 18/18\n",
      "Last Epoch 50 - valid: 0.844 train: 0.962 (mean)\n",
      "Test accuracy: 0.834\n",
      "done\n"
     ]
    }
   ],
   "source": [
    "# Grid search\n",
    "# Parameter tuned\n",
    "from sklearn.model_selection import ParameterGrid\n",
    "grid = ParameterGrid({\n",
    "    'alpha': [0.00005,0.00010,0.00020,0.00030,0.00040,0.00050],  # Regularization strength\n",
    "    'lr': [0.05,0.06,0.07]              # Learning rate\n",
    "})\n",
    "\n",
    "test_scores = []\n",
    "\n",
    "# loop ----\n",
    "for i, params_dict  in enumerate(grid, 1):\n",
    "    # Print progress\n",
    "    print('Combination {}/{}'.format(\n",
    "        i, len(grid) # Total number of combinations\n",
    "    ))    \n",
    "    \n",
    "    # Validation accuracy\n",
    "    valid_acc_values = []\n",
    "\n",
    "    with tf.Session(graph=graph) as sess:\n",
    "        # Initialize variables\n",
    "        sess.run(tf.global_variables_initializer())\n",
    "\n",
    "        # Set seed\n",
    "        np.random.seed(0)\n",
    "\n",
    "        # Train several epochs\n",
    "        for epoch in range(50):\n",
    "            # Accuracy values (train) after each batch\n",
    "            batch_acc = []\n",
    "\n",
    "            # Get batches of data\n",
    "            for X_batch, y_batch in get_batches(X_tr2, y_tr2, 64):\n",
    "                # Run training and evaluate accuracy\n",
    "                _, acc_value = sess.run([train_op, accuracy], feed_dict={\n",
    "                    X: X_batch,\n",
    "                    y: y_batch,\n",
    "                    lr: params_dict['lr'], # Learning rate\n",
    "                    training: True, # Apply dropout\n",
    "                    alpha: params_dict['alpha'] # Regularization strength\n",
    "                })\n",
    "\n",
    "                # Save accuracy (current batch)\n",
    "                batch_acc.append(acc_value)\n",
    "\n",
    "            # Evaluate validation accuracy\n",
    "            valid_acc = sess.run(accuracy, feed_dict={\n",
    "                X: X_valid2,\n",
    "                y: y_valid2,\n",
    "                training: False # Do not apply dropout\n",
    "                })\n",
    "            valid_acc_values.append(valid_acc)\n",
    "\n",
    "            # Print progress\n",
    "            #print('Epoch {} - valid: {:.3f} train: {:.3f} (mean)'.format(\n",
    "            #    epoch+1, valid_acc, np.mean(batch_acc)))\n",
    "\n",
    "\n",
    "        # Evaluate test accuracy\n",
    "        test_acc = sess.run(accuracy, feed_dict={\n",
    "            X: X_te,\n",
    "            y: y_te,\n",
    "            training: False # Do not apply dropout        \n",
    "        })\n",
    "        print('Last Epoch {} - valid: {:.3f} train: {:.3f} (mean)'.format(\n",
    "            epoch+1, valid_acc, np.mean(batch_acc)\n",
    "        ))\n",
    "        print('Test accuracy: {:.3f}'.format(test_acc))\n",
    "   \n",
    "    # Get train/test scores   \n",
    "    params_dict['Valid_accuracy'] = valid_acc\n",
    "    params_dict['Test_accuracy'] = test_acc  \n",
    "\n",
    "     # Save result\n",
    "    test_scores.append(params_dict)\n",
    "#Loop End---\n",
    "print('done')"
   ]
  },
  {
   "cell_type": "code",
   "execution_count": 10,
   "metadata": {
    "scrolled": true
   },
   "outputs": [
    {
     "data": {
      "image/png": "[encoded data removed]",
      "text/plain": [
       "<Figure size 432x288 with 1 Axes>"
      ]
     },
     "metadata": {},
     "output_type": "display_data"
    }
   ],
   "source": [
    "# Plot accuracy values\n",
    "plt.plot(valid_acc_values)\n",
    "#plt.plot(batch_acc)\n",
    "plt.title('Validation accuracy: {:.3f} (mean last 20)'.format(\n",
    "    np.mean(valid_acc_values[-20:])\n",
    "))\n",
    "plt.xlabel('epoch')\n",
    "plt.ylabel('accuracy')\n",
    "plt.show()"
   ]
  },
  {
   "cell_type": "code",
   "execution_count": 11,
   "metadata": {},
   "outputs": [
    {
     "data": {
      "text/html": [
       "<div>\n",
       "<style scoped>\n",
       "    .dataframe tbody tr th:only-of-type {\n",
       "        vertical-align: middle;\n",
       "    }\n",
       "\n",
       "    .dataframe tbody tr th {\n",
       "        vertical-align: top;\n",
       "    }\n",
       "\n",
       "    .dataframe thead th {\n",
       "        text-align: right;\n",
       "    }\n",
       "</style>\n",
       "<table border=\"1\" class=\"dataframe\">\n",
       "  <thead>\n",
       "    <tr style=\"text-align: right;\">\n",
       "      <th></th>\n",
       "      <th>Test_accuracy</th>\n",
       "      <th>Valid_accuracy</th>\n",
       "      <th>alpha</th>\n",
       "      <th>lr</th>\n",
       "    </tr>\n",
       "  </thead>\n",
       "  <tbody>\n",
       "    <tr>\n",
       "      <th>2</th>\n",
       "      <td>0.840</td>\n",
       "      <td>0.83625</td>\n",
       "      <td>0.00005</td>\n",
       "      <td>0.07</td>\n",
       "    </tr>\n",
       "    <tr>\n",
       "      <th>12</th>\n",
       "      <td>0.838</td>\n",
       "      <td>0.84250</td>\n",
       "      <td>0.00040</td>\n",
       "      <td>0.05</td>\n",
       "    </tr>\n",
       "    <tr>\n",
       "      <th>0</th>\n",
       "      <td>0.836</td>\n",
       "      <td>0.84250</td>\n",
       "      <td>0.00005</td>\n",
       "      <td>0.05</td>\n",
       "    </tr>\n",
       "    <tr>\n",
       "      <th>8</th>\n",
       "      <td>0.836</td>\n",
       "      <td>0.83625</td>\n",
       "      <td>0.00020</td>\n",
       "      <td>0.07</td>\n",
       "    </tr>\n",
       "    <tr>\n",
       "      <th>11</th>\n",
       "      <td>0.836</td>\n",
       "      <td>0.83875</td>\n",
       "      <td>0.00030</td>\n",
       "      <td>0.07</td>\n",
       "    </tr>\n",
       "    <tr>\n",
       "      <th>1</th>\n",
       "      <td>0.836</td>\n",
       "      <td>0.84000</td>\n",
       "      <td>0.00005</td>\n",
       "      <td>0.06</td>\n",
       "    </tr>\n",
       "    <tr>\n",
       "      <th>16</th>\n",
       "      <td>0.835</td>\n",
       "      <td>0.84000</td>\n",
       "      <td>0.00050</td>\n",
       "      <td>0.06</td>\n",
       "    </tr>\n",
       "    <tr>\n",
       "      <th>4</th>\n",
       "      <td>0.835</td>\n",
       "      <td>0.83750</td>\n",
       "      <td>0.00010</td>\n",
       "      <td>0.06</td>\n",
       "    </tr>\n",
       "    <tr>\n",
       "      <th>17</th>\n",
       "      <td>0.834</td>\n",
       "      <td>0.84375</td>\n",
       "      <td>0.00050</td>\n",
       "      <td>0.07</td>\n",
       "    </tr>\n",
       "  </tbody>\n",
       "</table>\n",
       "</div>"
      ],
      "text/plain": [
       "    Test_accuracy  Valid_accuracy    alpha    lr\n",
       "2           0.840         0.83625  0.00005  0.07\n",
       "12          0.838         0.84250  0.00040  0.05\n",
       "0           0.836         0.84250  0.00005  0.05\n",
       "8           0.836         0.83625  0.00020  0.07\n",
       "11          0.836         0.83875  0.00030  0.07\n",
       "1           0.836         0.84000  0.00005  0.06\n",
       "16          0.835         0.84000  0.00050  0.06\n",
       "4           0.835         0.83750  0.00010  0.06\n",
       "17          0.834         0.84375  0.00050  0.07"
      ]
     },
     "execution_count": 11,
     "metadata": {},
     "output_type": "execute_result"
    }
   ],
   "source": [
    "# Create DataFrame with sorted accuracy\n",
    "test_scores_df=pd.DataFrame(test_scores)\n",
    "df1=test_scores_df.sort_values(by='Test_accuracy', ascending=False)\n",
    "df1.head(9)"
   ]
  },
  {
   "cell_type": "code",
   "execution_count": 12,
   "metadata": {},
   "outputs": [
    {
     "name": "stdout",
     "output_type": "stream",
     "text": [
      "Multilayer fully-connected network accuracy (test set):  0.840\n"
     ]
    }
   ],
   "source": [
    "# Print maximum accuracy\n",
    "idx = test_scores_df.Test_accuracy.idxmax() # Index of maximum value\n",
    "max_accuracy = test_scores_df.Test_accuracy[idx]\n",
    "print('Multilayer fully-connected network accuracy (test set):  {:.3f}'\n",
    "      .format(max_accuracy))"
   ]
  },
  {
   "cell_type": "markdown",
   "metadata": {},
   "source": [
    "# Save Result"
   ]
  },
  {
   "cell_type": "code",
   "execution_count": 13,
   "metadata": {},
   "outputs": [
    {
     "name": "stdout",
     "output_type": "stream",
     "text": [
      "           model  test accuracy\n",
      "0           k-NN          0.794\n",
      "1  decision tree          0.658\n",
      "2  random forest          0.797\n",
      "3     svm linear          0.802\n",
      "4        svm rbf          0.839\n",
      "5       logistic          0.833\n",
      "6          fc nn          0.839\n",
      "7            cnn          0.816\n"
     ]
    }
   ],
   "source": [
    "# Load data & Save Results\n",
    "Result_df = pd.read_csv('Result_df.csv')\n",
    "print(Result_df.head(9))"
   ]
  },
  {
   "cell_type": "code",
   "execution_count": 14,
   "metadata": {},
   "outputs": [
    {
     "name": "stdout",
     "output_type": "stream",
     "text": [
      "           model  test accuracy\n",
      "0           k-NN          0.794\n",
      "1  decision tree          0.658\n",
      "2  random forest          0.797\n",
      "3     svm linear          0.802\n",
      "4        svm rbf          0.839\n",
      "5       logistic          0.833\n",
      "6          fc nn          0.840\n",
      "7            cnn          0.816\n"
     ]
    }
   ],
   "source": [
    "Result_df.iloc[6,1]=max_accuracy\n",
    "print(Result_df.head(9))\n",
    "#Write Result as Dataframe to file\n",
    "Result_df.to_csv('Result_df.csv', index=False, float_format='%.3f')"
   ]
  },
  {
   "cell_type": "code",
   "execution_count": null,
   "metadata": {},
   "outputs": [],
   "source": []
  }
 ],
 "metadata": {
  "kernelspec": {
   "display_name": "Python 3",
   "language": "python",
   "name": "python3"
  },
  "language_info": {
   "codemirror_mode": {
    "name": "ipython",
    "version": 3
   },
   "file_extension": ".py",
   "mimetype": "text/x-python",
   "name": "python",
   "nbconvert_exporter": "python",
   "pygments_lexer": "ipython3",
   "version": "3.6.6"
  }
 },
 "nbformat": 4,
 "nbformat_minor": 2
}
